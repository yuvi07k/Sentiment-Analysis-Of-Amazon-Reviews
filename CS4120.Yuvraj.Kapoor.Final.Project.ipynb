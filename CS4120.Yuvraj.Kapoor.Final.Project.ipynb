{
 "cells": [
  {
   "cell_type": "code",
   "execution_count": 1,
   "id": "756f9412",
   "metadata": {
    "pycharm": {
     "name": "#%%\n"
    }
   },
   "outputs": [
    {
     "name": "stderr",
     "output_type": "stream",
     "text": [
      "/Users/yuvi/opt/anaconda3/lib/python3.9/site-packages/pandas/core/computation/expressions.py:21: UserWarning: Pandas requires version '2.8.4' or newer of 'numexpr' (version '2.8.1' currently installed).\n",
      "  from pandas.core.computation.check import NUMEXPR_INSTALLED\n",
      "/Users/yuvi/opt/anaconda3/lib/python3.9/site-packages/pandas/core/arrays/masked.py:60: UserWarning: Pandas requires version '1.3.6' or newer of 'bottleneck' (version '1.3.4' currently installed).\n",
      "  from pandas.core import (\n"
     ]
    }
   ],
   "source": [
    "#pip install pandas numpy nltk wordcloud textblob scikit-learn matplotlib seaborn imbalanced-learn\n",
    "import gzip\n",
    "import json\n",
    "\n",
    "import pandas as pd \n",
    "import numpy as np \n",
    "\n",
    "import nltk\n",
    "import re\n",
    "import string\n",
    "from sklearn.feature_extraction.text import TfidfVectorizer\n",
    "from nltk.stem import WordNetLemmatizer\n",
    "from wordcloud import STOPWORDS\n",
    "\n",
    "from sklearn.linear_model import LogisticRegression\n",
    "from sklearn.tree import DecisionTreeClassifier\n",
    "from sklearn.ensemble import RandomForestClassifier\n",
    "from sklearn.neighbors import KNeighborsClassifier\n",
    "from sklearn.model_selection import train_test_split\n",
    "\n",
    "from sklearn import preprocessing \n",
    "from sklearn.metrics import classification_report\n",
    "from sklearn.metrics import accuracy_score, confusion_matrix, precision_score, recall_score, f1_score\n",
    "from sklearn.model_selection import cross_val_score, cross_validate\n",
    "\n",
    "import matplotlib.pyplot as plt \n",
    "from matplotlib import rcParams\n",
    "import seaborn as sns\n",
    "from textblob import TextBlob\n",
    "%matplotlib inline\n",
    "\n",
    "import warnings\n",
    "warnings.filterwarnings('ignore')\n",
    "from collections import defaultdict\n",
    "from collections import Counter\n",
    "from imblearn.over_sampling import BorderlineSMOTE"
   ]
  },
  {
   "cell_type": "code",
   "execution_count": 2,
   "id": "05dd8244",
   "metadata": {
    "pycharm": {
     "name": "#%%\n"
    }
   },
   "outputs": [],
   "source": [
    "def parse(path):\n",
    "    \"\"\"\n",
    "    Generator function that reads a gzip compressed file containing JSON entries.\n",
    "    \n",
    "    Args:\n",
    "    path (str): The file path to the gzip-compressed file.\n",
    "\n",
    "    Yields:\n",
    "    dict: Each line in the file is a JSON object, converted to a Python dictionary.\n",
    "    \"\"\"\n",
    "    g = gzip.open(path, 'rb')\n",
    "    for l in g:\n",
    "        yield json.loads(l)\n",
    "\n",
    "def getDF(path):\n",
    "    \"\"\"\n",
    "    Constructs a pandas DataFrame from a gzip compressed file containing JSON objects on each line.\n",
    "    \n",
    "    Args:\n",
    "    path (str): The file path to the gzip-compressed file.\n",
    "\n",
    "    Returns:\n",
    "    DataFrame: A pandas DataFrame where each row corresponds to one JSON object.\n",
    "    \"\"\"\n",
    "    i = 0\n",
    "    df = {}\n",
    "    for d in parse(path):\n",
    "        df[i] = d\n",
    "        i += 1\n",
    "    return pd.DataFrame.from_dict(df, orient='index')"
   ]
  },
  {
   "cell_type": "code",
   "execution_count": 3,
   "id": "b73cf07e",
   "metadata": {
    "pycharm": {
     "name": "#%%\n"
    }
   },
   "outputs": [],
   "source": [
    "# Applying the getDF function to parse the dataset\n",
    "df = getDF('Luxury_Beauty_5.json.gz')"
   ]
  },
  {
   "cell_type": "code",
   "execution_count": 4,
   "id": "de387c0c",
   "metadata": {
    "pycharm": {
     "name": "#%%\n"
    }
   },
   "outputs": [
    {
     "data": {
      "text/html": [
       "<div>\n",
       "<style scoped>\n",
       "    .dataframe tbody tr th:only-of-type {\n",
       "        vertical-align: middle;\n",
       "    }\n",
       "\n",
       "    .dataframe tbody tr th {\n",
       "        vertical-align: top;\n",
       "    }\n",
       "\n",
       "    .dataframe thead th {\n",
       "        text-align: right;\n",
       "    }\n",
       "</style>\n",
       "<table border=\"1\" class=\"dataframe\">\n",
       "  <thead>\n",
       "    <tr style=\"text-align: right;\">\n",
       "      <th></th>\n",
       "      <th>overall</th>\n",
       "      <th>verified</th>\n",
       "      <th>reviewTime</th>\n",
       "      <th>reviewerID</th>\n",
       "      <th>asin</th>\n",
       "      <th>style</th>\n",
       "      <th>reviewerName</th>\n",
       "      <th>reviewText</th>\n",
       "      <th>summary</th>\n",
       "      <th>unixReviewTime</th>\n",
       "      <th>vote</th>\n",
       "      <th>image</th>\n",
       "    </tr>\n",
       "  </thead>\n",
       "  <tbody>\n",
       "    <tr>\n",
       "      <th>0</th>\n",
       "      <td>5.0</td>\n",
       "      <td>True</td>\n",
       "      <td>01 5, 2018</td>\n",
       "      <td>A2HOI48JK8838M</td>\n",
       "      <td>B00004U9V2</td>\n",
       "      <td>{'Size:': ' 0.9 oz.'}</td>\n",
       "      <td>DB</td>\n",
       "      <td>This handcream has a beautiful fragrance. It d...</td>\n",
       "      <td>Beautiful Fragrance</td>\n",
       "      <td>1515110400</td>\n",
       "      <td>NaN</td>\n",
       "      <td>NaN</td>\n",
       "    </tr>\n",
       "    <tr>\n",
       "      <th>1</th>\n",
       "      <td>5.0</td>\n",
       "      <td>True</td>\n",
       "      <td>04 5, 2017</td>\n",
       "      <td>A1YIPEY7HX73S7</td>\n",
       "      <td>B00004U9V2</td>\n",
       "      <td>{'Size:': ' 3.5 oz.'}</td>\n",
       "      <td>Ajaey</td>\n",
       "      <td>wonderful hand lotion, for seriously dry skin,...</td>\n",
       "      <td>wonderful hand lotion</td>\n",
       "      <td>1491350400</td>\n",
       "      <td>NaN</td>\n",
       "      <td>NaN</td>\n",
       "    </tr>\n",
       "    <tr>\n",
       "      <th>2</th>\n",
       "      <td>5.0</td>\n",
       "      <td>True</td>\n",
       "      <td>03 27, 2017</td>\n",
       "      <td>A2QCGHIJ2TCLVP</td>\n",
       "      <td>B00004U9V2</td>\n",
       "      <td>{'Size:': ' 250 g'}</td>\n",
       "      <td>D. Jones</td>\n",
       "      <td>Best hand cream around.  Silky, thick, soaks i...</td>\n",
       "      <td>Best hand cream around</td>\n",
       "      <td>1490572800</td>\n",
       "      <td>NaN</td>\n",
       "      <td>NaN</td>\n",
       "    </tr>\n",
       "    <tr>\n",
       "      <th>3</th>\n",
       "      <td>5.0</td>\n",
       "      <td>True</td>\n",
       "      <td>03 20, 2017</td>\n",
       "      <td>A2R4UNHFJBA6PY</td>\n",
       "      <td>B00004U9V2</td>\n",
       "      <td>{'Size:': ' 3.5 oz.'}</td>\n",
       "      <td>Amazon Customer</td>\n",
       "      <td>Thanks!!</td>\n",
       "      <td>Five Stars</td>\n",
       "      <td>1489968000</td>\n",
       "      <td>NaN</td>\n",
       "      <td>NaN</td>\n",
       "    </tr>\n",
       "    <tr>\n",
       "      <th>4</th>\n",
       "      <td>5.0</td>\n",
       "      <td>True</td>\n",
       "      <td>02 28, 2017</td>\n",
       "      <td>A2QCGHIJ2TCLVP</td>\n",
       "      <td>B00004U9V2</td>\n",
       "      <td>{'Size:': ' 0.9 oz.'}</td>\n",
       "      <td>D. Jones</td>\n",
       "      <td>Great hand lotion.  Soaks right in and leaves ...</td>\n",
       "      <td>Great hand lotion!</td>\n",
       "      <td>1488240000</td>\n",
       "      <td>NaN</td>\n",
       "      <td>NaN</td>\n",
       "    </tr>\n",
       "    <tr>\n",
       "      <th>...</th>\n",
       "      <td>...</td>\n",
       "      <td>...</td>\n",
       "      <td>...</td>\n",
       "      <td>...</td>\n",
       "      <td>...</td>\n",
       "      <td>...</td>\n",
       "      <td>...</td>\n",
       "      <td>...</td>\n",
       "      <td>...</td>\n",
       "      <td>...</td>\n",
       "      <td>...</td>\n",
       "      <td>...</td>\n",
       "    </tr>\n",
       "    <tr>\n",
       "      <th>34273</th>\n",
       "      <td>4.0</td>\n",
       "      <td>False</td>\n",
       "      <td>09 3, 2017</td>\n",
       "      <td>A2CF66KIQ3RKX3</td>\n",
       "      <td>B01GOZ61O8</td>\n",
       "      <td>NaN</td>\n",
       "      <td>Vivian Deliz</td>\n",
       "      <td>I like to use moisturizers and sunscreens that...</td>\n",
       "      <td>Works great as a moisturizer and sunscreen</td>\n",
       "      <td>1504396800</td>\n",
       "      <td>NaN</td>\n",
       "      <td>NaN</td>\n",
       "    </tr>\n",
       "    <tr>\n",
       "      <th>34274</th>\n",
       "      <td>4.0</td>\n",
       "      <td>False</td>\n",
       "      <td>09 3, 2017</td>\n",
       "      <td>A1LKOIZXPQ9VG0</td>\n",
       "      <td>B01GOZ61O8</td>\n",
       "      <td>NaN</td>\n",
       "      <td>Elisa 20</td>\n",
       "      <td>I wouldn't be able to afford this if not asked...</td>\n",
       "      <td>Nice skin care product and sunscreen if you do...</td>\n",
       "      <td>1504396800</td>\n",
       "      <td>NaN</td>\n",
       "      <td>NaN</td>\n",
       "    </tr>\n",
       "    <tr>\n",
       "      <th>34275</th>\n",
       "      <td>1.0</td>\n",
       "      <td>True</td>\n",
       "      <td>08 25, 2017</td>\n",
       "      <td>AV2RWORXTFRJU</td>\n",
       "      <td>B01H353HUY</td>\n",
       "      <td>NaN</td>\n",
       "      <td>Gapeachmama</td>\n",
       "      <td>Did nothing</td>\n",
       "      <td>One Star</td>\n",
       "      <td>1503619200</td>\n",
       "      <td>NaN</td>\n",
       "      <td>NaN</td>\n",
       "    </tr>\n",
       "    <tr>\n",
       "      <th>34276</th>\n",
       "      <td>5.0</td>\n",
       "      <td>False</td>\n",
       "      <td>07 8, 2017</td>\n",
       "      <td>A22S7D0LP8GRDH</td>\n",
       "      <td>B01H353HUY</td>\n",
       "      <td>NaN</td>\n",
       "      <td>Jacob and Kiki Hantla</td>\n",
       "      <td>I love the Oribe bright blonde radiance spray....</td>\n",
       "      <td>No more brass!</td>\n",
       "      <td>1499472000</td>\n",
       "      <td>NaN</td>\n",
       "      <td>NaN</td>\n",
       "    </tr>\n",
       "    <tr>\n",
       "      <th>34277</th>\n",
       "      <td>5.0</td>\n",
       "      <td>True</td>\n",
       "      <td>07 9, 2018</td>\n",
       "      <td>AAF5D1LTFGB7L</td>\n",
       "      <td>B01HGSJPMW</td>\n",
       "      <td>NaN</td>\n",
       "      <td>Libby Johnson</td>\n",
       "      <td>I love all of the Elemis products.</td>\n",
       "      <td>Five Stars</td>\n",
       "      <td>1531094400</td>\n",
       "      <td>NaN</td>\n",
       "      <td>NaN</td>\n",
       "    </tr>\n",
       "  </tbody>\n",
       "</table>\n",
       "<p>34278 rows × 12 columns</p>\n",
       "</div>"
      ],
      "text/plain": [
       "       overall  verified   reviewTime      reviewerID        asin  \\\n",
       "0          5.0      True   01 5, 2018  A2HOI48JK8838M  B00004U9V2   \n",
       "1          5.0      True   04 5, 2017  A1YIPEY7HX73S7  B00004U9V2   \n",
       "2          5.0      True  03 27, 2017  A2QCGHIJ2TCLVP  B00004U9V2   \n",
       "3          5.0      True  03 20, 2017  A2R4UNHFJBA6PY  B00004U9V2   \n",
       "4          5.0      True  02 28, 2017  A2QCGHIJ2TCLVP  B00004U9V2   \n",
       "...        ...       ...          ...             ...         ...   \n",
       "34273      4.0     False   09 3, 2017  A2CF66KIQ3RKX3  B01GOZ61O8   \n",
       "34274      4.0     False   09 3, 2017  A1LKOIZXPQ9VG0  B01GOZ61O8   \n",
       "34275      1.0      True  08 25, 2017   AV2RWORXTFRJU  B01H353HUY   \n",
       "34276      5.0     False   07 8, 2017  A22S7D0LP8GRDH  B01H353HUY   \n",
       "34277      5.0      True   07 9, 2018   AAF5D1LTFGB7L  B01HGSJPMW   \n",
       "\n",
       "                       style           reviewerName  \\\n",
       "0      {'Size:': ' 0.9 oz.'}                     DB   \n",
       "1      {'Size:': ' 3.5 oz.'}                  Ajaey   \n",
       "2        {'Size:': ' 250 g'}               D. Jones   \n",
       "3      {'Size:': ' 3.5 oz.'}        Amazon Customer   \n",
       "4      {'Size:': ' 0.9 oz.'}               D. Jones   \n",
       "...                      ...                    ...   \n",
       "34273                    NaN           Vivian Deliz   \n",
       "34274                    NaN               Elisa 20   \n",
       "34275                    NaN            Gapeachmama   \n",
       "34276                    NaN  Jacob and Kiki Hantla   \n",
       "34277                    NaN          Libby Johnson   \n",
       "\n",
       "                                              reviewText  \\\n",
       "0      This handcream has a beautiful fragrance. It d...   \n",
       "1      wonderful hand lotion, for seriously dry skin,...   \n",
       "2      Best hand cream around.  Silky, thick, soaks i...   \n",
       "3                                               Thanks!!   \n",
       "4      Great hand lotion.  Soaks right in and leaves ...   \n",
       "...                                                  ...   \n",
       "34273  I like to use moisturizers and sunscreens that...   \n",
       "34274  I wouldn't be able to afford this if not asked...   \n",
       "34275                                        Did nothing   \n",
       "34276  I love the Oribe bright blonde radiance spray....   \n",
       "34277                 I love all of the Elemis products.   \n",
       "\n",
       "                                                 summary  unixReviewTime vote  \\\n",
       "0                                    Beautiful Fragrance      1515110400  NaN   \n",
       "1                                  wonderful hand lotion      1491350400  NaN   \n",
       "2                                 Best hand cream around      1490572800  NaN   \n",
       "3                                             Five Stars      1489968000  NaN   \n",
       "4                                     Great hand lotion!      1488240000  NaN   \n",
       "...                                                  ...             ...  ...   \n",
       "34273         Works great as a moisturizer and sunscreen      1504396800  NaN   \n",
       "34274  Nice skin care product and sunscreen if you do...      1504396800  NaN   \n",
       "34275                                           One Star      1503619200  NaN   \n",
       "34276                                     No more brass!      1499472000  NaN   \n",
       "34277                                         Five Stars      1531094400  NaN   \n",
       "\n",
       "      image  \n",
       "0       NaN  \n",
       "1       NaN  \n",
       "2       NaN  \n",
       "3       NaN  \n",
       "4       NaN  \n",
       "...     ...  \n",
       "34273   NaN  \n",
       "34274   NaN  \n",
       "34275   NaN  \n",
       "34276   NaN  \n",
       "34277   NaN  \n",
       "\n",
       "[34278 rows x 12 columns]"
      ]
     },
     "execution_count": 4,
     "metadata": {},
     "output_type": "execute_result"
    }
   ],
   "source": [
    "# Displaying the dataset\n",
    "df"
   ]
  },
  {
   "cell_type": "code",
   "execution_count": 5,
   "id": "4a87085b",
   "metadata": {
    "pycharm": {
     "name": "#%%\n"
    }
   },
   "outputs": [
    {
     "name": "stdout",
     "output_type": "stream",
     "text": [
      "The shape of the  data is:(34278, 12)\n",
      "<class 'pandas.core.frame.DataFrame'>\n",
      "Index: 34278 entries, 0 to 34277\n",
      "Data columns (total 12 columns):\n",
      " #   Column          Non-Null Count  Dtype  \n",
      "---  ------          --------------  -----  \n",
      " 0   overall         34278 non-null  float64\n",
      " 1   verified        34278 non-null  bool   \n",
      " 2   reviewTime      34278 non-null  object \n",
      " 3   reviewerID      34278 non-null  object \n",
      " 4   asin            34278 non-null  object \n",
      " 5   style           16841 non-null  object \n",
      " 6   reviewerName    34278 non-null  object \n",
      " 7   reviewText      34265 non-null  object \n",
      " 8   summary         34263 non-null  object \n",
      " 9   unixReviewTime  34278 non-null  int64  \n",
      " 10  vote            6532 non-null   object \n",
      " 11  image           617 non-null    object \n",
      "dtypes: bool(1), float64(1), int64(1), object(9)\n",
      "memory usage: 3.2+ MB\n"
     ]
    }
   ],
   "source": [
    "# Printing the shape and information of the dataset \n",
    "print (\"The shape of the  data is:\"+ str(df.shape))\n",
    "df.info()"
   ]
  },
  {
   "cell_type": "code",
   "execution_count": 6,
   "id": "d0fdae0b",
   "metadata": {
    "pycharm": {
     "name": "#%%\n"
    }
   },
   "outputs": [
    {
     "data": {
      "text/plain": [
       "overall               0\n",
       "verified              0\n",
       "reviewTime            0\n",
       "reviewerID            0\n",
       "asin                  0\n",
       "style             17437\n",
       "reviewerName          0\n",
       "reviewText           13\n",
       "summary              15\n",
       "unixReviewTime        0\n",
       "vote              27746\n",
       "image             33661\n",
       "dtype: int64"
      ]
     },
     "execution_count": 6,
     "metadata": {},
     "output_type": "execute_result"
    }
   ],
   "source": [
    "# Creating a copy\n",
    "data=df.copy()\n",
    "\n",
    "# Checking for null values\n",
    "data.isnull().sum()"
   ]
  },
  {
   "cell_type": "code",
   "execution_count": 7,
   "id": "398ad17c",
   "metadata": {
    "pycharm": {
     "name": "#%%\n"
    }
   },
   "outputs": [
    {
     "data": {
      "text/html": [
       "<div>\n",
       "<style scoped>\n",
       "    .dataframe tbody tr th:only-of-type {\n",
       "        vertical-align: middle;\n",
       "    }\n",
       "\n",
       "    .dataframe tbody tr th {\n",
       "        vertical-align: top;\n",
       "    }\n",
       "\n",
       "    .dataframe thead th {\n",
       "        text-align: right;\n",
       "    }\n",
       "</style>\n",
       "<table border=\"1\" class=\"dataframe\">\n",
       "  <thead>\n",
       "    <tr style=\"text-align: right;\">\n",
       "      <th></th>\n",
       "      <th>overall</th>\n",
       "      <th>reviewTime</th>\n",
       "      <th>reviewerID</th>\n",
       "      <th>asin</th>\n",
       "      <th>reviewText</th>\n",
       "      <th>summary</th>\n",
       "      <th>vote</th>\n",
       "    </tr>\n",
       "  </thead>\n",
       "  <tbody>\n",
       "    <tr>\n",
       "      <th>0</th>\n",
       "      <td>5.0</td>\n",
       "      <td>01 5, 2018</td>\n",
       "      <td>A2HOI48JK8838M</td>\n",
       "      <td>B00004U9V2</td>\n",
       "      <td>This handcream has a beautiful fragrance. It d...</td>\n",
       "      <td>Beautiful Fragrance</td>\n",
       "      <td>NaN</td>\n",
       "    </tr>\n",
       "    <tr>\n",
       "      <th>1</th>\n",
       "      <td>5.0</td>\n",
       "      <td>04 5, 2017</td>\n",
       "      <td>A1YIPEY7HX73S7</td>\n",
       "      <td>B00004U9V2</td>\n",
       "      <td>wonderful hand lotion, for seriously dry skin,...</td>\n",
       "      <td>wonderful hand lotion</td>\n",
       "      <td>NaN</td>\n",
       "    </tr>\n",
       "    <tr>\n",
       "      <th>2</th>\n",
       "      <td>5.0</td>\n",
       "      <td>03 27, 2017</td>\n",
       "      <td>A2QCGHIJ2TCLVP</td>\n",
       "      <td>B00004U9V2</td>\n",
       "      <td>Best hand cream around.  Silky, thick, soaks i...</td>\n",
       "      <td>Best hand cream around</td>\n",
       "      <td>NaN</td>\n",
       "    </tr>\n",
       "    <tr>\n",
       "      <th>3</th>\n",
       "      <td>5.0</td>\n",
       "      <td>03 20, 2017</td>\n",
       "      <td>A2R4UNHFJBA6PY</td>\n",
       "      <td>B00004U9V2</td>\n",
       "      <td>Thanks!!</td>\n",
       "      <td>Five Stars</td>\n",
       "      <td>NaN</td>\n",
       "    </tr>\n",
       "    <tr>\n",
       "      <th>4</th>\n",
       "      <td>5.0</td>\n",
       "      <td>02 28, 2017</td>\n",
       "      <td>A2QCGHIJ2TCLVP</td>\n",
       "      <td>B00004U9V2</td>\n",
       "      <td>Great hand lotion.  Soaks right in and leaves ...</td>\n",
       "      <td>Great hand lotion!</td>\n",
       "      <td>NaN</td>\n",
       "    </tr>\n",
       "    <tr>\n",
       "      <th>...</th>\n",
       "      <td>...</td>\n",
       "      <td>...</td>\n",
       "      <td>...</td>\n",
       "      <td>...</td>\n",
       "      <td>...</td>\n",
       "      <td>...</td>\n",
       "      <td>...</td>\n",
       "    </tr>\n",
       "    <tr>\n",
       "      <th>34273</th>\n",
       "      <td>4.0</td>\n",
       "      <td>09 3, 2017</td>\n",
       "      <td>A2CF66KIQ3RKX3</td>\n",
       "      <td>B01GOZ61O8</td>\n",
       "      <td>I like to use moisturizers and sunscreens that...</td>\n",
       "      <td>Works great as a moisturizer and sunscreen</td>\n",
       "      <td>NaN</td>\n",
       "    </tr>\n",
       "    <tr>\n",
       "      <th>34274</th>\n",
       "      <td>4.0</td>\n",
       "      <td>09 3, 2017</td>\n",
       "      <td>A1LKOIZXPQ9VG0</td>\n",
       "      <td>B01GOZ61O8</td>\n",
       "      <td>I wouldn't be able to afford this if not asked...</td>\n",
       "      <td>Nice skin care product and sunscreen if you do...</td>\n",
       "      <td>NaN</td>\n",
       "    </tr>\n",
       "    <tr>\n",
       "      <th>34275</th>\n",
       "      <td>1.0</td>\n",
       "      <td>08 25, 2017</td>\n",
       "      <td>AV2RWORXTFRJU</td>\n",
       "      <td>B01H353HUY</td>\n",
       "      <td>Did nothing</td>\n",
       "      <td>One Star</td>\n",
       "      <td>NaN</td>\n",
       "    </tr>\n",
       "    <tr>\n",
       "      <th>34276</th>\n",
       "      <td>5.0</td>\n",
       "      <td>07 8, 2017</td>\n",
       "      <td>A22S7D0LP8GRDH</td>\n",
       "      <td>B01H353HUY</td>\n",
       "      <td>I love the Oribe bright blonde radiance spray....</td>\n",
       "      <td>No more brass!</td>\n",
       "      <td>NaN</td>\n",
       "    </tr>\n",
       "    <tr>\n",
       "      <th>34277</th>\n",
       "      <td>5.0</td>\n",
       "      <td>07 9, 2018</td>\n",
       "      <td>AAF5D1LTFGB7L</td>\n",
       "      <td>B01HGSJPMW</td>\n",
       "      <td>I love all of the Elemis products.</td>\n",
       "      <td>Five Stars</td>\n",
       "      <td>NaN</td>\n",
       "    </tr>\n",
       "  </tbody>\n",
       "</table>\n",
       "<p>34278 rows × 7 columns</p>\n",
       "</div>"
      ],
      "text/plain": [
       "       overall   reviewTime      reviewerID        asin  \\\n",
       "0          5.0   01 5, 2018  A2HOI48JK8838M  B00004U9V2   \n",
       "1          5.0   04 5, 2017  A1YIPEY7HX73S7  B00004U9V2   \n",
       "2          5.0  03 27, 2017  A2QCGHIJ2TCLVP  B00004U9V2   \n",
       "3          5.0  03 20, 2017  A2R4UNHFJBA6PY  B00004U9V2   \n",
       "4          5.0  02 28, 2017  A2QCGHIJ2TCLVP  B00004U9V2   \n",
       "...        ...          ...             ...         ...   \n",
       "34273      4.0   09 3, 2017  A2CF66KIQ3RKX3  B01GOZ61O8   \n",
       "34274      4.0   09 3, 2017  A1LKOIZXPQ9VG0  B01GOZ61O8   \n",
       "34275      1.0  08 25, 2017   AV2RWORXTFRJU  B01H353HUY   \n",
       "34276      5.0   07 8, 2017  A22S7D0LP8GRDH  B01H353HUY   \n",
       "34277      5.0   07 9, 2018   AAF5D1LTFGB7L  B01HGSJPMW   \n",
       "\n",
       "                                              reviewText  \\\n",
       "0      This handcream has a beautiful fragrance. It d...   \n",
       "1      wonderful hand lotion, for seriously dry skin,...   \n",
       "2      Best hand cream around.  Silky, thick, soaks i...   \n",
       "3                                               Thanks!!   \n",
       "4      Great hand lotion.  Soaks right in and leaves ...   \n",
       "...                                                  ...   \n",
       "34273  I like to use moisturizers and sunscreens that...   \n",
       "34274  I wouldn't be able to afford this if not asked...   \n",
       "34275                                        Did nothing   \n",
       "34276  I love the Oribe bright blonde radiance spray....   \n",
       "34277                 I love all of the Elemis products.   \n",
       "\n",
       "                                                 summary vote  \n",
       "0                                    Beautiful Fragrance  NaN  \n",
       "1                                  wonderful hand lotion  NaN  \n",
       "2                                 Best hand cream around  NaN  \n",
       "3                                             Five Stars  NaN  \n",
       "4                                     Great hand lotion!  NaN  \n",
       "...                                                  ...  ...  \n",
       "34273         Works great as a moisturizer and sunscreen  NaN  \n",
       "34274  Nice skin care product and sunscreen if you do...  NaN  \n",
       "34275                                           One Star  NaN  \n",
       "34276                                     No more brass!  NaN  \n",
       "34277                                         Five Stars  NaN  \n",
       "\n",
       "[34278 rows x 7 columns]"
      ]
     },
     "execution_count": 7,
     "metadata": {},
     "output_type": "execute_result"
    }
   ],
   "source": [
    "# Dropping the columns not needed \n",
    "data = data.drop(columns=[ 'style', 'image', 'verified', 'unixReviewTime', 'reviewerName'])\n",
    "data"
   ]
  },
  {
   "cell_type": "code",
   "execution_count": 8,
   "id": "d08a6bfc",
   "metadata": {
    "pycharm": {
     "name": "#%%\n"
    }
   },
   "outputs": [],
   "source": [
    "# Imputing the columns \n",
    "data['reviewText']=data['reviewText'].fillna('N/A')\n",
    "data['summary']=data['summary'].fillna('N/A')\n",
    "data['vote']=data['vote'].fillna(0)"
   ]
  },
  {
   "cell_type": "code",
   "execution_count": 9,
   "id": "ada47256",
   "metadata": {
    "pycharm": {
     "name": "#%%\n"
    }
   },
   "outputs": [
    {
     "data": {
      "text/plain": [
       "overall       0\n",
       "reviewTime    0\n",
       "reviewerID    0\n",
       "asin          0\n",
       "reviewText    0\n",
       "summary       0\n",
       "vote          0\n",
       "dtype: int64"
      ]
     },
     "execution_count": 9,
     "metadata": {},
     "output_type": "execute_result"
    }
   ],
   "source": [
    "# Checking for null values\n",
    "data.isnull().sum()"
   ]
  },
  {
   "cell_type": "code",
   "execution_count": 10,
   "id": "7308417c",
   "metadata": {
    "pycharm": {
     "name": "#%%\n"
    }
   },
   "outputs": [
    {
     "data": {
      "text/plain": [
       "vote\n",
       "0      27746\n",
       "2       2337\n",
       "3       1548\n",
       "4        571\n",
       "5        383\n",
       "       ...  \n",
       "231        1\n",
       "85         1\n",
       "82         1\n",
       "67         1\n",
       "371        1\n",
       "Name: count, Length: 110, dtype: int64"
      ]
     },
     "execution_count": 10,
     "metadata": {},
     "output_type": "execute_result"
    }
   ],
   "source": [
    "# Checking the imputation for the vote column \n",
    "data['vote'].value_counts()"
   ]
  },
  {
   "cell_type": "code",
   "execution_count": 11,
   "id": "52c61043",
   "metadata": {
    "pycharm": {
     "name": "#%%\n"
    }
   },
   "outputs": [
    {
     "data": {
      "text/html": [
       "<div>\n",
       "<style scoped>\n",
       "    .dataframe tbody tr th:only-of-type {\n",
       "        vertical-align: middle;\n",
       "    }\n",
       "\n",
       "    .dataframe tbody tr th {\n",
       "        vertical-align: top;\n",
       "    }\n",
       "\n",
       "    .dataframe thead th {\n",
       "        text-align: right;\n",
       "    }\n",
       "</style>\n",
       "<table border=\"1\" class=\"dataframe\">\n",
       "  <thead>\n",
       "    <tr style=\"text-align: right;\">\n",
       "      <th></th>\n",
       "      <th>overall</th>\n",
       "      <th>reviewerID</th>\n",
       "      <th>asin</th>\n",
       "      <th>reviewText</th>\n",
       "      <th>summary</th>\n",
       "      <th>vote</th>\n",
       "      <th>month</th>\n",
       "      <th>date</th>\n",
       "    </tr>\n",
       "  </thead>\n",
       "  <tbody>\n",
       "    <tr>\n",
       "      <th>0</th>\n",
       "      <td>5.0</td>\n",
       "      <td>A2HOI48JK8838M</td>\n",
       "      <td>B00004U9V2</td>\n",
       "      <td>This handcream has a beautiful fragrance. It d...</td>\n",
       "      <td>Beautiful Fragrance</td>\n",
       "      <td>0</td>\n",
       "      <td>01</td>\n",
       "      <td>5, 2018</td>\n",
       "    </tr>\n",
       "    <tr>\n",
       "      <th>1</th>\n",
       "      <td>5.0</td>\n",
       "      <td>A1YIPEY7HX73S7</td>\n",
       "      <td>B00004U9V2</td>\n",
       "      <td>wonderful hand lotion, for seriously dry skin,...</td>\n",
       "      <td>wonderful hand lotion</td>\n",
       "      <td>0</td>\n",
       "      <td>04</td>\n",
       "      <td>5, 2017</td>\n",
       "    </tr>\n",
       "    <tr>\n",
       "      <th>2</th>\n",
       "      <td>5.0</td>\n",
       "      <td>A2QCGHIJ2TCLVP</td>\n",
       "      <td>B00004U9V2</td>\n",
       "      <td>Best hand cream around.  Silky, thick, soaks i...</td>\n",
       "      <td>Best hand cream around</td>\n",
       "      <td>0</td>\n",
       "      <td>03</td>\n",
       "      <td>27, 2017</td>\n",
       "    </tr>\n",
       "    <tr>\n",
       "      <th>3</th>\n",
       "      <td>5.0</td>\n",
       "      <td>A2R4UNHFJBA6PY</td>\n",
       "      <td>B00004U9V2</td>\n",
       "      <td>Thanks!!</td>\n",
       "      <td>Five Stars</td>\n",
       "      <td>0</td>\n",
       "      <td>03</td>\n",
       "      <td>20, 2017</td>\n",
       "    </tr>\n",
       "    <tr>\n",
       "      <th>4</th>\n",
       "      <td>5.0</td>\n",
       "      <td>A2QCGHIJ2TCLVP</td>\n",
       "      <td>B00004U9V2</td>\n",
       "      <td>Great hand lotion.  Soaks right in and leaves ...</td>\n",
       "      <td>Great hand lotion!</td>\n",
       "      <td>0</td>\n",
       "      <td>02</td>\n",
       "      <td>28, 2017</td>\n",
       "    </tr>\n",
       "  </tbody>\n",
       "</table>\n",
       "</div>"
      ],
      "text/plain": [
       "   overall      reviewerID        asin  \\\n",
       "0      5.0  A2HOI48JK8838M  B00004U9V2   \n",
       "1      5.0  A1YIPEY7HX73S7  B00004U9V2   \n",
       "2      5.0  A2QCGHIJ2TCLVP  B00004U9V2   \n",
       "3      5.0  A2R4UNHFJBA6PY  B00004U9V2   \n",
       "4      5.0  A2QCGHIJ2TCLVP  B00004U9V2   \n",
       "\n",
       "                                          reviewText                 summary  \\\n",
       "0  This handcream has a beautiful fragrance. It d...     Beautiful Fragrance   \n",
       "1  wonderful hand lotion, for seriously dry skin,...   wonderful hand lotion   \n",
       "2  Best hand cream around.  Silky, thick, soaks i...  Best hand cream around   \n",
       "3                                           Thanks!!              Five Stars   \n",
       "4  Great hand lotion.  Soaks right in and leaves ...      Great hand lotion!   \n",
       "\n",
       "  vote month      date  \n",
       "0    0    01   5, 2018  \n",
       "1    0    04   5, 2017  \n",
       "2    0    03  27, 2017  \n",
       "3    0    03  20, 2017  \n",
       "4    0    02  28, 2017  "
      ]
     },
     "execution_count": 11,
     "metadata": {},
     "output_type": "execute_result"
    }
   ],
   "source": [
    "# Splitting the date \n",
    "date = data[\"reviewTime\"].str.split(\" \", n = 1, expand = True) \n",
    "  \n",
    "# Adding month \n",
    "data[\"month\"]= date[0] \n",
    "  \n",
    "# Adding day\n",
    "data[\"date\"]= date[1] \n",
    "\n",
    "data=data.drop(['reviewTime'], axis=1)\n",
    "data.head()"
   ]
  },
  {
   "cell_type": "code",
   "execution_count": 12,
   "id": "6228d19e",
   "metadata": {
    "pycharm": {
     "name": "#%%\n"
    }
   },
   "outputs": [
    {
     "data": {
      "text/html": [
       "<div>\n",
       "<style scoped>\n",
       "    .dataframe tbody tr th:only-of-type {\n",
       "        vertical-align: middle;\n",
       "    }\n",
       "\n",
       "    .dataframe tbody tr th {\n",
       "        vertical-align: top;\n",
       "    }\n",
       "\n",
       "    .dataframe thead th {\n",
       "        text-align: right;\n",
       "    }\n",
       "</style>\n",
       "<table border=\"1\" class=\"dataframe\">\n",
       "  <thead>\n",
       "    <tr style=\"text-align: right;\">\n",
       "      <th></th>\n",
       "      <th>overall</th>\n",
       "      <th>reviewerID</th>\n",
       "      <th>asin</th>\n",
       "      <th>reviewText</th>\n",
       "      <th>summary</th>\n",
       "      <th>vote</th>\n",
       "      <th>month</th>\n",
       "      <th>day</th>\n",
       "      <th>year</th>\n",
       "    </tr>\n",
       "  </thead>\n",
       "  <tbody>\n",
       "    <tr>\n",
       "      <th>0</th>\n",
       "      <td>5.0</td>\n",
       "      <td>A2HOI48JK8838M</td>\n",
       "      <td>B00004U9V2</td>\n",
       "      <td>This handcream has a beautiful fragrance. It d...</td>\n",
       "      <td>Beautiful Fragrance</td>\n",
       "      <td>0</td>\n",
       "      <td>01</td>\n",
       "      <td>5</td>\n",
       "      <td>2018</td>\n",
       "    </tr>\n",
       "    <tr>\n",
       "      <th>1</th>\n",
       "      <td>5.0</td>\n",
       "      <td>A1YIPEY7HX73S7</td>\n",
       "      <td>B00004U9V2</td>\n",
       "      <td>wonderful hand lotion, for seriously dry skin,...</td>\n",
       "      <td>wonderful hand lotion</td>\n",
       "      <td>0</td>\n",
       "      <td>04</td>\n",
       "      <td>5</td>\n",
       "      <td>2017</td>\n",
       "    </tr>\n",
       "    <tr>\n",
       "      <th>2</th>\n",
       "      <td>5.0</td>\n",
       "      <td>A2QCGHIJ2TCLVP</td>\n",
       "      <td>B00004U9V2</td>\n",
       "      <td>Best hand cream around.  Silky, thick, soaks i...</td>\n",
       "      <td>Best hand cream around</td>\n",
       "      <td>0</td>\n",
       "      <td>03</td>\n",
       "      <td>27</td>\n",
       "      <td>2017</td>\n",
       "    </tr>\n",
       "    <tr>\n",
       "      <th>3</th>\n",
       "      <td>5.0</td>\n",
       "      <td>A2R4UNHFJBA6PY</td>\n",
       "      <td>B00004U9V2</td>\n",
       "      <td>Thanks!!</td>\n",
       "      <td>Five Stars</td>\n",
       "      <td>0</td>\n",
       "      <td>03</td>\n",
       "      <td>20</td>\n",
       "      <td>2017</td>\n",
       "    </tr>\n",
       "    <tr>\n",
       "      <th>4</th>\n",
       "      <td>5.0</td>\n",
       "      <td>A2QCGHIJ2TCLVP</td>\n",
       "      <td>B00004U9V2</td>\n",
       "      <td>Great hand lotion.  Soaks right in and leaves ...</td>\n",
       "      <td>Great hand lotion!</td>\n",
       "      <td>0</td>\n",
       "      <td>02</td>\n",
       "      <td>28</td>\n",
       "      <td>2017</td>\n",
       "    </tr>\n",
       "  </tbody>\n",
       "</table>\n",
       "</div>"
      ],
      "text/plain": [
       "   overall      reviewerID        asin  \\\n",
       "0      5.0  A2HOI48JK8838M  B00004U9V2   \n",
       "1      5.0  A1YIPEY7HX73S7  B00004U9V2   \n",
       "2      5.0  A2QCGHIJ2TCLVP  B00004U9V2   \n",
       "3      5.0  A2R4UNHFJBA6PY  B00004U9V2   \n",
       "4      5.0  A2QCGHIJ2TCLVP  B00004U9V2   \n",
       "\n",
       "                                          reviewText                 summary  \\\n",
       "0  This handcream has a beautiful fragrance. It d...     Beautiful Fragrance   \n",
       "1  wonderful hand lotion, for seriously dry skin,...   wonderful hand lotion   \n",
       "2  Best hand cream around.  Silky, thick, soaks i...  Best hand cream around   \n",
       "3                                           Thanks!!              Five Stars   \n",
       "4  Great hand lotion.  Soaks right in and leaves ...      Great hand lotion!   \n",
       "\n",
       "  vote month day   year  \n",
       "0    0    01   5   2018  \n",
       "1    0    04   5   2017  \n",
       "2    0    03  27   2017  \n",
       "3    0    03  20   2017  \n",
       "4    0    02  28   2017  "
      ]
     },
     "execution_count": 12,
     "metadata": {},
     "output_type": "execute_result"
    }
   ],
   "source": [
    "day = data[\"date\"].str.split(\",\", n = 1, expand = True) \n",
    "  \n",
    "# Adding day \n",
    "data[\"day\"]= day[0] \n",
    "  \n",
    "# Adding year  \n",
    "data[\"year\"]= day[1] \n",
    "\n",
    "data=data.drop(['date'], axis=1)\n",
    "data.head()"
   ]
  },
  {
   "cell_type": "code",
   "execution_count": 13,
   "id": "725adde0",
   "metadata": {
    "pycharm": {
     "name": "#%%\n"
    }
   },
   "outputs": [],
   "source": [
    "def sentiment_review(row):  \n",
    "    \"\"\"\n",
    "    Determines the sentiment of a review based on the 'overall' rating.\n",
    "\n",
    "    Args:\n",
    "    row (dict or pd.Series): A dictionary or a pandas Series object representing a single row of a DataFrame.\n",
    "\n",
    "    Returns:\n",
    "    str: The sentiment of the review ('Neutral', 'Negative', 'Positive') or -1 if the rating is outside the expected range.\n",
    "    \"\"\"\n",
    "    if row['overall'] == 3.0:\n",
    "        val = 'Neutral'\n",
    "    elif row['overall'] == 1.0 or row['overall'] == 2.0:\n",
    "        val = 'Negative'\n",
    "    elif row['overall'] == 4.0 or row['overall'] == 5.0:\n",
    "        val = 'Positive'\n",
    "    else:\n",
    "        val = -1\n",
    "    return val"
   ]
  },
  {
   "cell_type": "code",
   "execution_count": 14,
   "id": "86ce1fee",
   "metadata": {
    "pycharm": {
     "name": "#%%\n"
    }
   },
   "outputs": [
    {
     "data": {
      "text/html": [
       "<div>\n",
       "<style scoped>\n",
       "    .dataframe tbody tr th:only-of-type {\n",
       "        vertical-align: middle;\n",
       "    }\n",
       "\n",
       "    .dataframe tbody tr th {\n",
       "        vertical-align: top;\n",
       "    }\n",
       "\n",
       "    .dataframe thead th {\n",
       "        text-align: right;\n",
       "    }\n",
       "</style>\n",
       "<table border=\"1\" class=\"dataframe\">\n",
       "  <thead>\n",
       "    <tr style=\"text-align: right;\">\n",
       "      <th></th>\n",
       "      <th>overall</th>\n",
       "      <th>reviewerID</th>\n",
       "      <th>asin</th>\n",
       "      <th>reviewText</th>\n",
       "      <th>summary</th>\n",
       "      <th>vote</th>\n",
       "      <th>month</th>\n",
       "      <th>day</th>\n",
       "      <th>year</th>\n",
       "      <th>sentiment</th>\n",
       "    </tr>\n",
       "  </thead>\n",
       "  <tbody>\n",
       "    <tr>\n",
       "      <th>0</th>\n",
       "      <td>5.0</td>\n",
       "      <td>A2HOI48JK8838M</td>\n",
       "      <td>B00004U9V2</td>\n",
       "      <td>This handcream has a beautiful fragrance. It d...</td>\n",
       "      <td>Beautiful Fragrance</td>\n",
       "      <td>0</td>\n",
       "      <td>01</td>\n",
       "      <td>5</td>\n",
       "      <td>2018</td>\n",
       "      <td>Positive</td>\n",
       "    </tr>\n",
       "    <tr>\n",
       "      <th>1</th>\n",
       "      <td>5.0</td>\n",
       "      <td>A1YIPEY7HX73S7</td>\n",
       "      <td>B00004U9V2</td>\n",
       "      <td>wonderful hand lotion, for seriously dry skin,...</td>\n",
       "      <td>wonderful hand lotion</td>\n",
       "      <td>0</td>\n",
       "      <td>04</td>\n",
       "      <td>5</td>\n",
       "      <td>2017</td>\n",
       "      <td>Positive</td>\n",
       "    </tr>\n",
       "    <tr>\n",
       "      <th>2</th>\n",
       "      <td>5.0</td>\n",
       "      <td>A2QCGHIJ2TCLVP</td>\n",
       "      <td>B00004U9V2</td>\n",
       "      <td>Best hand cream around.  Silky, thick, soaks i...</td>\n",
       "      <td>Best hand cream around</td>\n",
       "      <td>0</td>\n",
       "      <td>03</td>\n",
       "      <td>27</td>\n",
       "      <td>2017</td>\n",
       "      <td>Positive</td>\n",
       "    </tr>\n",
       "    <tr>\n",
       "      <th>3</th>\n",
       "      <td>5.0</td>\n",
       "      <td>A2R4UNHFJBA6PY</td>\n",
       "      <td>B00004U9V2</td>\n",
       "      <td>Thanks!!</td>\n",
       "      <td>Five Stars</td>\n",
       "      <td>0</td>\n",
       "      <td>03</td>\n",
       "      <td>20</td>\n",
       "      <td>2017</td>\n",
       "      <td>Positive</td>\n",
       "    </tr>\n",
       "    <tr>\n",
       "      <th>4</th>\n",
       "      <td>5.0</td>\n",
       "      <td>A2QCGHIJ2TCLVP</td>\n",
       "      <td>B00004U9V2</td>\n",
       "      <td>Great hand lotion.  Soaks right in and leaves ...</td>\n",
       "      <td>Great hand lotion!</td>\n",
       "      <td>0</td>\n",
       "      <td>02</td>\n",
       "      <td>28</td>\n",
       "      <td>2017</td>\n",
       "      <td>Positive</td>\n",
       "    </tr>\n",
       "  </tbody>\n",
       "</table>\n",
       "</div>"
      ],
      "text/plain": [
       "   overall      reviewerID        asin  \\\n",
       "0      5.0  A2HOI48JK8838M  B00004U9V2   \n",
       "1      5.0  A1YIPEY7HX73S7  B00004U9V2   \n",
       "2      5.0  A2QCGHIJ2TCLVP  B00004U9V2   \n",
       "3      5.0  A2R4UNHFJBA6PY  B00004U9V2   \n",
       "4      5.0  A2QCGHIJ2TCLVP  B00004U9V2   \n",
       "\n",
       "                                          reviewText                 summary  \\\n",
       "0  This handcream has a beautiful fragrance. It d...     Beautiful Fragrance   \n",
       "1  wonderful hand lotion, for seriously dry skin,...   wonderful hand lotion   \n",
       "2  Best hand cream around.  Silky, thick, soaks i...  Best hand cream around   \n",
       "3                                           Thanks!!              Five Stars   \n",
       "4  Great hand lotion.  Soaks right in and leaves ...      Great hand lotion!   \n",
       "\n",
       "  vote month day   year sentiment  \n",
       "0    0    01   5   2018  Positive  \n",
       "1    0    04   5   2017  Positive  \n",
       "2    0    03  27   2017  Positive  \n",
       "3    0    03  20   2017  Positive  \n",
       "4    0    02  28   2017  Positive  "
      ]
     },
     "execution_count": 14,
     "metadata": {},
     "output_type": "execute_result"
    }
   ],
   "source": [
    "# Applying the function \n",
    "data['sentiment'] = data.apply(sentiment_review, axis=1)\n",
    "data.head()"
   ]
  },
  {
   "cell_type": "code",
   "execution_count": 15,
   "id": "251d9825",
   "metadata": {
    "pycharm": {
     "name": "#%%\n"
    }
   },
   "outputs": [
    {
     "data": {
      "text/html": [
       "<div>\n",
       "<style scoped>\n",
       "    .dataframe tbody tr th:only-of-type {\n",
       "        vertical-align: middle;\n",
       "    }\n",
       "\n",
       "    .dataframe tbody tr th {\n",
       "        vertical-align: top;\n",
       "    }\n",
       "\n",
       "    .dataframe thead th {\n",
       "        text-align: right;\n",
       "    }\n",
       "</style>\n",
       "<table border=\"1\" class=\"dataframe\">\n",
       "  <thead>\n",
       "    <tr style=\"text-align: right;\">\n",
       "      <th></th>\n",
       "      <th>overall</th>\n",
       "      <th>reviewerID</th>\n",
       "      <th>asin</th>\n",
       "      <th>vote</th>\n",
       "      <th>month</th>\n",
       "      <th>day</th>\n",
       "      <th>year</th>\n",
       "      <th>sentiment</th>\n",
       "      <th>reviews</th>\n",
       "    </tr>\n",
       "  </thead>\n",
       "  <tbody>\n",
       "    <tr>\n",
       "      <th>0</th>\n",
       "      <td>5.0</td>\n",
       "      <td>A2HOI48JK8838M</td>\n",
       "      <td>B00004U9V2</td>\n",
       "      <td>0</td>\n",
       "      <td>01</td>\n",
       "      <td>5</td>\n",
       "      <td>2018</td>\n",
       "      <td>Positive</td>\n",
       "      <td>This handcream has a beautiful fragrance. It d...</td>\n",
       "    </tr>\n",
       "    <tr>\n",
       "      <th>1</th>\n",
       "      <td>5.0</td>\n",
       "      <td>A1YIPEY7HX73S7</td>\n",
       "      <td>B00004U9V2</td>\n",
       "      <td>0</td>\n",
       "      <td>04</td>\n",
       "      <td>5</td>\n",
       "      <td>2017</td>\n",
       "      <td>Positive</td>\n",
       "      <td>wonderful hand lotion, for seriously dry skin,...</td>\n",
       "    </tr>\n",
       "    <tr>\n",
       "      <th>2</th>\n",
       "      <td>5.0</td>\n",
       "      <td>A2QCGHIJ2TCLVP</td>\n",
       "      <td>B00004U9V2</td>\n",
       "      <td>0</td>\n",
       "      <td>03</td>\n",
       "      <td>27</td>\n",
       "      <td>2017</td>\n",
       "      <td>Positive</td>\n",
       "      <td>Best hand cream around.  Silky, thick, soaks i...</td>\n",
       "    </tr>\n",
       "    <tr>\n",
       "      <th>3</th>\n",
       "      <td>5.0</td>\n",
       "      <td>A2R4UNHFJBA6PY</td>\n",
       "      <td>B00004U9V2</td>\n",
       "      <td>0</td>\n",
       "      <td>03</td>\n",
       "      <td>20</td>\n",
       "      <td>2017</td>\n",
       "      <td>Positive</td>\n",
       "      <td>Thanks!!Five Stars</td>\n",
       "    </tr>\n",
       "    <tr>\n",
       "      <th>4</th>\n",
       "      <td>5.0</td>\n",
       "      <td>A2QCGHIJ2TCLVP</td>\n",
       "      <td>B00004U9V2</td>\n",
       "      <td>0</td>\n",
       "      <td>02</td>\n",
       "      <td>28</td>\n",
       "      <td>2017</td>\n",
       "      <td>Positive</td>\n",
       "      <td>Great hand lotion.  Soaks right in and leaves ...</td>\n",
       "    </tr>\n",
       "  </tbody>\n",
       "</table>\n",
       "</div>"
      ],
      "text/plain": [
       "   overall      reviewerID        asin vote month day   year sentiment  \\\n",
       "0      5.0  A2HOI48JK8838M  B00004U9V2    0    01   5   2018  Positive   \n",
       "1      5.0  A1YIPEY7HX73S7  B00004U9V2    0    04   5   2017  Positive   \n",
       "2      5.0  A2QCGHIJ2TCLVP  B00004U9V2    0    03  27   2017  Positive   \n",
       "3      5.0  A2R4UNHFJBA6PY  B00004U9V2    0    03  20   2017  Positive   \n",
       "4      5.0  A2QCGHIJ2TCLVP  B00004U9V2    0    02  28   2017  Positive   \n",
       "\n",
       "                                             reviews  \n",
       "0  This handcream has a beautiful fragrance. It d...  \n",
       "1  wonderful hand lotion, for seriously dry skin,...  \n",
       "2  Best hand cream around.  Silky, thick, soaks i...  \n",
       "3                                 Thanks!!Five Stars  \n",
       "4  Great hand lotion.  Soaks right in and leaves ...  "
      ]
     },
     "execution_count": 15,
     "metadata": {},
     "output_type": "execute_result"
    }
   ],
   "source": [
    "# Concatenating the reviewText and summary for better analysis \n",
    "data['reviews']=data['reviewText']+data['summary']\n",
    "data=data.drop(['reviewText', 'summary'], axis=1)\n",
    "data.head()"
   ]
  },
  {
   "cell_type": "code",
   "execution_count": 16,
   "id": "6633814e",
   "metadata": {
    "pycharm": {
     "name": "#%%\n"
    }
   },
   "outputs": [],
   "source": [
    "def clean(text):\n",
    "    \"\"\"\n",
    "    Cleans the input text by lowering the case and removing unwanted patterns and characters,\n",
    "    tailored for sentiment analysis to retain punctuation that might convey sentiment.\n",
    "\n",
    "    Args:\n",
    "    text (str): The text to clean.\n",
    "\n",
    "    Returns:\n",
    "    str: The cleaned text.\n",
    "    \"\"\"\n",
    "    text = str(text).lower()\n",
    "    text = re.sub(r'\\[.*?\\]', '', text)\n",
    "    # Remove URLs\n",
    "    text = re.sub(r'https?://\\S+|www\\.\\S+', '', text)\n",
    "    # Remove HTML tags\n",
    "    text = re.sub(r'<.*?>+', '', text)\n",
    "    # Remove punctuation except for exclamation points and question marks\n",
    "    retain_punctuation = '!?'\n",
    "    pattern = '[%s]' % re.escape(string.punctuation.replace('!', '').replace('?', ''))\n",
    "    text = re.sub(pattern, '', text)\n",
    "    text = re.sub(r'\\n', ' ', text)\n",
    "    text = re.sub(r'\\w*\\d\\w*', '', text)\n",
    "    \n",
    "    return text"
   ]
  },
  {
   "cell_type": "code",
   "execution_count": 17,
   "id": "9b0f6ab4",
   "metadata": {
    "pycharm": {
     "name": "#%%\n"
    }
   },
   "outputs": [
    {
     "data": {
      "text/html": [
       "<div>\n",
       "<style scoped>\n",
       "    .dataframe tbody tr th:only-of-type {\n",
       "        vertical-align: middle;\n",
       "    }\n",
       "\n",
       "    .dataframe tbody tr th {\n",
       "        vertical-align: top;\n",
       "    }\n",
       "\n",
       "    .dataframe thead th {\n",
       "        text-align: right;\n",
       "    }\n",
       "</style>\n",
       "<table border=\"1\" class=\"dataframe\">\n",
       "  <thead>\n",
       "    <tr style=\"text-align: right;\">\n",
       "      <th></th>\n",
       "      <th>overall</th>\n",
       "      <th>reviewerID</th>\n",
       "      <th>asin</th>\n",
       "      <th>vote</th>\n",
       "      <th>month</th>\n",
       "      <th>day</th>\n",
       "      <th>year</th>\n",
       "      <th>sentiment</th>\n",
       "      <th>reviews</th>\n",
       "    </tr>\n",
       "  </thead>\n",
       "  <tbody>\n",
       "    <tr>\n",
       "      <th>0</th>\n",
       "      <td>5.0</td>\n",
       "      <td>A2HOI48JK8838M</td>\n",
       "      <td>B00004U9V2</td>\n",
       "      <td>0</td>\n",
       "      <td>01</td>\n",
       "      <td>5</td>\n",
       "      <td>2018</td>\n",
       "      <td>Positive</td>\n",
       "      <td>this handcream has a beautiful fragrance it do...</td>\n",
       "    </tr>\n",
       "    <tr>\n",
       "      <th>1</th>\n",
       "      <td>5.0</td>\n",
       "      <td>A1YIPEY7HX73S7</td>\n",
       "      <td>B00004U9V2</td>\n",
       "      <td>0</td>\n",
       "      <td>04</td>\n",
       "      <td>5</td>\n",
       "      <td>2017</td>\n",
       "      <td>Positive</td>\n",
       "      <td>wonderful hand lotion for seriously dry skin s...</td>\n",
       "    </tr>\n",
       "    <tr>\n",
       "      <th>2</th>\n",
       "      <td>5.0</td>\n",
       "      <td>A2QCGHIJ2TCLVP</td>\n",
       "      <td>B00004U9V2</td>\n",
       "      <td>0</td>\n",
       "      <td>03</td>\n",
       "      <td>27</td>\n",
       "      <td>2017</td>\n",
       "      <td>Positive</td>\n",
       "      <td>best hand cream around  silky thick soaks in a...</td>\n",
       "    </tr>\n",
       "    <tr>\n",
       "      <th>3</th>\n",
       "      <td>5.0</td>\n",
       "      <td>A2R4UNHFJBA6PY</td>\n",
       "      <td>B00004U9V2</td>\n",
       "      <td>0</td>\n",
       "      <td>03</td>\n",
       "      <td>20</td>\n",
       "      <td>2017</td>\n",
       "      <td>Positive</td>\n",
       "      <td>thanks!!five stars</td>\n",
       "    </tr>\n",
       "    <tr>\n",
       "      <th>4</th>\n",
       "      <td>5.0</td>\n",
       "      <td>A2QCGHIJ2TCLVP</td>\n",
       "      <td>B00004U9V2</td>\n",
       "      <td>0</td>\n",
       "      <td>02</td>\n",
       "      <td>28</td>\n",
       "      <td>2017</td>\n",
       "      <td>Positive</td>\n",
       "      <td>great hand lotion  soaks right in and leaves s...</td>\n",
       "    </tr>\n",
       "  </tbody>\n",
       "</table>\n",
       "</div>"
      ],
      "text/plain": [
       "   overall      reviewerID        asin vote month day   year sentiment  \\\n",
       "0      5.0  A2HOI48JK8838M  B00004U9V2    0    01   5   2018  Positive   \n",
       "1      5.0  A1YIPEY7HX73S7  B00004U9V2    0    04   5   2017  Positive   \n",
       "2      5.0  A2QCGHIJ2TCLVP  B00004U9V2    0    03  27   2017  Positive   \n",
       "3      5.0  A2R4UNHFJBA6PY  B00004U9V2    0    03  20   2017  Positive   \n",
       "4      5.0  A2QCGHIJ2TCLVP  B00004U9V2    0    02  28   2017  Positive   \n",
       "\n",
       "                                             reviews  \n",
       "0  this handcream has a beautiful fragrance it do...  \n",
       "1  wonderful hand lotion for seriously dry skin s...  \n",
       "2  best hand cream around  silky thick soaks in a...  \n",
       "3                                 thanks!!five stars  \n",
       "4  great hand lotion  soaks right in and leaves s...  "
      ]
     },
     "execution_count": 17,
     "metadata": {},
     "output_type": "execute_result"
    }
   ],
   "source": [
    "# Applying the function \n",
    "data['reviews']=data['reviews'].apply(lambda x:clean(x))\n",
    "data.head()"
   ]
  },
  {
   "cell_type": "code",
   "execution_count": 18,
   "id": "b46b5d7c",
   "metadata": {
    "pycharm": {
     "name": "#%%\n"
    }
   },
   "outputs": [],
   "source": [
    "# Creating the list of stop words \n",
    "stop_words= [\"i\", \"me\", \"my\", \"myself\", \"we\", \"our\", \"ours\", \"ourselves\", \"you\", \"your\", \"yours\", \"yourself\", \n",
    "             \"yourselves\", \"he\", \"him\", \"his\", \"himself\", \"she\", \"her\", \"hers\", \"herself\", \"it\", \"its\", \"itself\",\n",
    "             \"they\", \"them\", \"their\", \"theirs\", \"themselves\", \"what\", \"which\", \"who\", \"whom\", \"this\", \"that\", \"these\",\n",
    "             \"those\", \"am\", \"is\", \"are\", \"was\", \"were\", \"be\", \"been\", \"being\", \"have\", \"has\", \"had\", \"having\", \"do\",\n",
    "             \"does\", \"did\", \"doing\", \"a\", \"an\", \"the\", \"and\", \"but\", \"if\", \"or\", \"because\", \"as\", \"until\", \"while\",\n",
    "             \"of\", \"at\", \"by\", \"for\", \"with\", \"about\", \"between\", \"into\", \"through\", \"during\", \"to\", \"from\",\n",
    "             \"in\", \"out\", \"on\", \"again\",\"further\", \"then\", \"once\", \"here\", \"there\", \"when\", \"where\", \"why\", \"how\", \"all\",\n",
    "             \"any\", \"both\", \"each\", \"few\", \"more\", \"most\", \"other\", \"some\", \"such\", \"only\", \"own\", \"same\", \"so\", \"than\", \n",
    "             \"too\", \"very\", \"can\", \"will\", \"just\", \"should\", \"now\"]"
   ]
  },
  {
   "cell_type": "code",
   "execution_count": 19,
   "id": "d85277d0",
   "metadata": {
    "pycharm": {
     "name": "#%%\n"
    }
   },
   "outputs": [
    {
     "data": {
      "text/html": [
       "<div>\n",
       "<style scoped>\n",
       "    .dataframe tbody tr th:only-of-type {\n",
       "        vertical-align: middle;\n",
       "    }\n",
       "\n",
       "    .dataframe tbody tr th {\n",
       "        vertical-align: top;\n",
       "    }\n",
       "\n",
       "    .dataframe thead th {\n",
       "        text-align: right;\n",
       "    }\n",
       "</style>\n",
       "<table border=\"1\" class=\"dataframe\">\n",
       "  <thead>\n",
       "    <tr style=\"text-align: right;\">\n",
       "      <th></th>\n",
       "      <th>overall</th>\n",
       "      <th>reviewerID</th>\n",
       "      <th>asin</th>\n",
       "      <th>vote</th>\n",
       "      <th>month</th>\n",
       "      <th>day</th>\n",
       "      <th>year</th>\n",
       "      <th>sentiment</th>\n",
       "      <th>reviews</th>\n",
       "    </tr>\n",
       "  </thead>\n",
       "  <tbody>\n",
       "    <tr>\n",
       "      <th>0</th>\n",
       "      <td>5.0</td>\n",
       "      <td>A2HOI48JK8838M</td>\n",
       "      <td>B00004U9V2</td>\n",
       "      <td>0</td>\n",
       "      <td>01</td>\n",
       "      <td>5</td>\n",
       "      <td>2018</td>\n",
       "      <td>Positive</td>\n",
       "      <td>handcream beautiful fragrance doesnt stay prot...</td>\n",
       "    </tr>\n",
       "    <tr>\n",
       "      <th>1</th>\n",
       "      <td>5.0</td>\n",
       "      <td>A1YIPEY7HX73S7</td>\n",
       "      <td>B00004U9V2</td>\n",
       "      <td>0</td>\n",
       "      <td>04</td>\n",
       "      <td>5</td>\n",
       "      <td>2017</td>\n",
       "      <td>Positive</td>\n",
       "      <td>wonderful hand lotion seriously dry skin stays...</td>\n",
       "    </tr>\n",
       "    <tr>\n",
       "      <th>2</th>\n",
       "      <td>5.0</td>\n",
       "      <td>A2QCGHIJ2TCLVP</td>\n",
       "      <td>B00004U9V2</td>\n",
       "      <td>0</td>\n",
       "      <td>03</td>\n",
       "      <td>27</td>\n",
       "      <td>2017</td>\n",
       "      <td>Positive</td>\n",
       "      <td>best hand cream around silky thick soaks way l...</td>\n",
       "    </tr>\n",
       "    <tr>\n",
       "      <th>3</th>\n",
       "      <td>5.0</td>\n",
       "      <td>A2R4UNHFJBA6PY</td>\n",
       "      <td>B00004U9V2</td>\n",
       "      <td>0</td>\n",
       "      <td>03</td>\n",
       "      <td>20</td>\n",
       "      <td>2017</td>\n",
       "      <td>Positive</td>\n",
       "      <td>thanks!!five stars</td>\n",
       "    </tr>\n",
       "    <tr>\n",
       "      <th>4</th>\n",
       "      <td>5.0</td>\n",
       "      <td>A2QCGHIJ2TCLVP</td>\n",
       "      <td>B00004U9V2</td>\n",
       "      <td>0</td>\n",
       "      <td>02</td>\n",
       "      <td>28</td>\n",
       "      <td>2017</td>\n",
       "      <td>Positive</td>\n",
       "      <td>great hand lotion soaks right leaves skin supe...</td>\n",
       "    </tr>\n",
       "  </tbody>\n",
       "</table>\n",
       "</div>"
      ],
      "text/plain": [
       "   overall      reviewerID        asin vote month day   year sentiment  \\\n",
       "0      5.0  A2HOI48JK8838M  B00004U9V2    0    01   5   2018  Positive   \n",
       "1      5.0  A1YIPEY7HX73S7  B00004U9V2    0    04   5   2017  Positive   \n",
       "2      5.0  A2QCGHIJ2TCLVP  B00004U9V2    0    03  27   2017  Positive   \n",
       "3      5.0  A2R4UNHFJBA6PY  B00004U9V2    0    03  20   2017  Positive   \n",
       "4      5.0  A2QCGHIJ2TCLVP  B00004U9V2    0    02  28   2017  Positive   \n",
       "\n",
       "                                             reviews  \n",
       "0  handcream beautiful fragrance doesnt stay prot...  \n",
       "1  wonderful hand lotion seriously dry skin stays...  \n",
       "2  best hand cream around silky thick soaks way l...  \n",
       "3                                 thanks!!five stars  \n",
       "4  great hand lotion soaks right leaves skin supe...  "
      ]
     },
     "execution_count": 19,
     "metadata": {},
     "output_type": "execute_result"
    }
   ],
   "source": [
    "# Applying the function\n",
    "data['reviews'] = data['reviews'].apply(lambda x: ' '.join([word for word in x.split() if word not in (stop_words)]))\n",
    "data.head()"
   ]
  },
  {
   "cell_type": "code",
   "execution_count": 20,
   "id": "171675c9",
   "metadata": {
    "pycharm": {
     "name": "#%%\n"
    }
   },
   "outputs": [
    {
     "data": {
      "image/png": "[encoded data removed]",
      "text/plain": [
       "<Figure size 432x288 with 1 Axes>"
      ]
     },
     "metadata": {
      "needs_background": "light"
     },
     "output_type": "display_data"
    }
   ],
   "source": [
    "# Group the data by 'year' and 'sentiment' and count the occurrences\n",
    "sentiment_counts = data.groupby(['year', 'sentiment']).size().unstack()\n",
    "\n",
    "# Plotting the sentiment counts by year\n",
    "sentiment_counts.plot(kind='bar', legend=True) \n",
    "plt.title('Year Vs Sentiment Count')\n",
    "plt.xlabel('Year')\n",
    "plt.ylabel('Sentiment Count')\n",
    "plt.show()"
   ]
  },
  {
   "cell_type": "code",
   "execution_count": 21,
   "id": "2b375c93",
   "metadata": {
    "pycharm": {
     "name": "#%%\n"
    }
   },
   "outputs": [
    {
     "data": {
      "text/html": [
       "<div>\n",
       "<style scoped>\n",
       "    .dataframe tbody tr th:only-of-type {\n",
       "        vertical-align: middle;\n",
       "    }\n",
       "\n",
       "    .dataframe tbody tr th {\n",
       "        vertical-align: top;\n",
       "    }\n",
       "\n",
       "    .dataframe thead th {\n",
       "        text-align: right;\n",
       "    }\n",
       "</style>\n",
       "<table border=\"1\" class=\"dataframe\">\n",
       "  <thead>\n",
       "    <tr style=\"text-align: right;\">\n",
       "      <th></th>\n",
       "      <th>overall</th>\n",
       "      <th>reviewerID</th>\n",
       "      <th>asin</th>\n",
       "      <th>vote</th>\n",
       "      <th>month</th>\n",
       "      <th>day</th>\n",
       "      <th>year</th>\n",
       "      <th>sentiment</th>\n",
       "      <th>reviews</th>\n",
       "      <th>polarity</th>\n",
       "      <th>len</th>\n",
       "      <th>count_words</th>\n",
       "    </tr>\n",
       "  </thead>\n",
       "  <tbody>\n",
       "    <tr>\n",
       "      <th>0</th>\n",
       "      <td>5.0</td>\n",
       "      <td>A2HOI48JK8838M</td>\n",
       "      <td>B00004U9V2</td>\n",
       "      <td>0</td>\n",
       "      <td>01</td>\n",
       "      <td>5</td>\n",
       "      <td>2018</td>\n",
       "      <td>Positive</td>\n",
       "      <td>handcream beautiful fragrance doesnt stay prot...</td>\n",
       "      <td>0.850000</td>\n",
       "      <td>99</td>\n",
       "      <td>12</td>\n",
       "    </tr>\n",
       "    <tr>\n",
       "      <th>1</th>\n",
       "      <td>5.0</td>\n",
       "      <td>A1YIPEY7HX73S7</td>\n",
       "      <td>B00004U9V2</td>\n",
       "      <td>0</td>\n",
       "      <td>04</td>\n",
       "      <td>5</td>\n",
       "      <td>2017</td>\n",
       "      <td>Positive</td>\n",
       "      <td>wonderful hand lotion seriously dry skin stays...</td>\n",
       "      <td>0.271250</td>\n",
       "      <td>173</td>\n",
       "      <td>27</td>\n",
       "    </tr>\n",
       "    <tr>\n",
       "      <th>2</th>\n",
       "      <td>5.0</td>\n",
       "      <td>A2QCGHIJ2TCLVP</td>\n",
       "      <td>B00004U9V2</td>\n",
       "      <td>0</td>\n",
       "      <td>03</td>\n",
       "      <td>27</td>\n",
       "      <td>2017</td>\n",
       "      <td>Positive</td>\n",
       "      <td>best hand cream around silky thick soaks way l...</td>\n",
       "      <td>0.344444</td>\n",
       "      <td>91</td>\n",
       "      <td>15</td>\n",
       "    </tr>\n",
       "    <tr>\n",
       "      <th>3</th>\n",
       "      <td>5.0</td>\n",
       "      <td>A2R4UNHFJBA6PY</td>\n",
       "      <td>B00004U9V2</td>\n",
       "      <td>0</td>\n",
       "      <td>03</td>\n",
       "      <td>20</td>\n",
       "      <td>2017</td>\n",
       "      <td>Positive</td>\n",
       "      <td>thanks!!five stars</td>\n",
       "      <td>0.000000</td>\n",
       "      <td>18</td>\n",
       "      <td>2</td>\n",
       "    </tr>\n",
       "    <tr>\n",
       "      <th>4</th>\n",
       "      <td>5.0</td>\n",
       "      <td>A2QCGHIJ2TCLVP</td>\n",
       "      <td>B00004U9V2</td>\n",
       "      <td>0</td>\n",
       "      <td>02</td>\n",
       "      <td>28</td>\n",
       "      <td>2017</td>\n",
       "      <td>Positive</td>\n",
       "      <td>great hand lotion soaks right leaves skin supe...</td>\n",
       "      <td>0.503810</td>\n",
       "      <td>101</td>\n",
       "      <td>16</td>\n",
       "    </tr>\n",
       "  </tbody>\n",
       "</table>\n",
       "</div>"
      ],
      "text/plain": [
       "   overall      reviewerID        asin vote month day   year sentiment  \\\n",
       "0      5.0  A2HOI48JK8838M  B00004U9V2    0    01   5   2018  Positive   \n",
       "1      5.0  A1YIPEY7HX73S7  B00004U9V2    0    04   5   2017  Positive   \n",
       "2      5.0  A2QCGHIJ2TCLVP  B00004U9V2    0    03  27   2017  Positive   \n",
       "3      5.0  A2R4UNHFJBA6PY  B00004U9V2    0    03  20   2017  Positive   \n",
       "4      5.0  A2QCGHIJ2TCLVP  B00004U9V2    0    02  28   2017  Positive   \n",
       "\n",
       "                                             reviews  polarity  len  \\\n",
       "0  handcream beautiful fragrance doesnt stay prot...  0.850000   99   \n",
       "1  wonderful hand lotion seriously dry skin stays...  0.271250  173   \n",
       "2  best hand cream around silky thick soaks way l...  0.344444   91   \n",
       "3                                 thanks!!five stars  0.000000   18   \n",
       "4  great hand lotion soaks right leaves skin supe...  0.503810  101   \n",
       "\n",
       "   count_words  \n",
       "0           12  \n",
       "1           27  \n",
       "2           15  \n",
       "3            2  \n",
       "4           16  "
      ]
     },
     "execution_count": 21,
     "metadata": {},
     "output_type": "execute_result"
    }
   ],
   "source": [
    "# Adding the polarity column \n",
    "data['polarity'] = data['reviews'].map(lambda text: TextBlob(text).sentiment.polarity)\n",
    "data['len'] = data['reviews'].astype(str).apply(len)\n",
    "data['count_words'] = data['reviews'].apply(lambda x: len(str(x).split()))\n",
    "data.head()"
   ]
  },
  {
   "cell_type": "code",
   "execution_count": 22,
   "id": "f7c59090",
   "metadata": {
    "pycharm": {
     "name": "#%%\n"
    }
   },
   "outputs": [
    {
     "data": {
      "image/png": "[encoded data removed]",
      "text/plain": [
       "<Figure size 720x432 with 1 Axes>"
      ]
     },
     "metadata": {
      "needs_background": "light"
     },
     "output_type": "display_data"
    }
   ],
   "source": [
    "# Plotting the histogram for sentiment polarity\n",
    "plt.figure(figsize=(10, 6))\n",
    "plt.hist(data['polarity'], bins=50, color='blue', edgecolor='black')\n",
    "plt.title('Sentiment Polarity Distribution')\n",
    "plt.xlabel('Polarity')\n",
    "plt.ylabel('Count')\n",
    "plt.grid(True) \n",
    "plt.show()"
   ]
  },
  {
   "cell_type": "code",
   "execution_count": 23,
   "id": "e64969db",
   "metadata": {
    "pycharm": {
     "name": "#%%\n"
    }
   },
   "outputs": [
    {
     "data": {
      "image/png": "[encoded data removed]",
      "text/plain": [
       "<Figure size 720x432 with 1 Axes>"
      ]
     },
     "metadata": {
      "needs_background": "light"
     },
     "output_type": "display_data"
    }
   ],
   "source": [
    "# Plotting the histogram for review ratings\n",
    "plt.figure(figsize=(10, 6))\n",
    "plt.hist(data['overall'], bins=range(int(data['overall'].min()), int(data['overall'].max()) + 2), edgecolor='black')\n",
    "plt.title('Review Rating Distribution')\n",
    "plt.xlabel('Rating')\n",
    "plt.ylabel('Count')\n",
    "plt.xticks(range(int(data['overall'].min()), int(data['overall'].max()) + 1)) \n",
    "plt.grid(True)  \n",
    "plt.show()"
   ]
  },
  {
   "cell_type": "code",
   "execution_count": 24,
   "id": "37f2c8f6",
   "metadata": {
    "pycharm": {
     "name": "#%%\n"
    }
   },
   "outputs": [
    {
     "data": {
      "image/png": "[encoded data removed]",
      "text/plain": [
       "<Figure size 720x432 with 1 Axes>"
      ]
     },
     "metadata": {
      "needs_background": "light"
     },
     "output_type": "display_data"
    }
   ],
   "source": [
    "# Plotting the histogram for review text lengths\n",
    "plt.figure(figsize=(10, 6))\n",
    "plt.hist(data['len'], bins=10, color='blue', edgecolor='black')  \n",
    "plt.title('Review Text Length Distribution')\n",
    "plt.xlabel('Review Length')\n",
    "plt.ylabel('Count')\n",
    "plt.grid(True) \n",
    "plt.show()"
   ]
  },
  {
   "cell_type": "code",
   "execution_count": 25,
   "id": "fa97ef09",
   "metadata": {
    "pycharm": {
     "name": "#%%\n"
    }
   },
   "outputs": [
    {
     "data": {
      "image/png": "[encoded data removed]",
      "text/plain": [
       "<Figure size 720x432 with 1 Axes>"
      ]
     },
     "metadata": {
      "needs_background": "light"
     },
     "output_type": "display_data"
    }
   ],
   "source": [
    "# Plotting the histogram for review text word counts\n",
    "plt.figure(figsize=(10, 6))\n",
    "plt.hist(data['count_words'], bins=10, color='blue', edgecolor='black')  \n",
    "plt.title('Review Text Word Count Distribution')\n",
    "plt.xlabel('Word Count')\n",
    "plt.ylabel('Count')\n",
    "plt.grid(True)  \n",
    "plt.show()"
   ]
  },
  {
   "cell_type": "code",
   "execution_count": 26,
   "id": "c56a4577",
   "metadata": {
    "pycharm": {
     "name": "#%%\n"
    }
   },
   "outputs": [],
   "source": [
    "#Filtering data\n",
    "review_pos = data[data[\"sentiment\"]=='Positive'].dropna()\n",
    "review_neu = data[data[\"sentiment\"]=='Neutral'].dropna()\n",
    "review_neg = data[data[\"sentiment\"]=='Negative'].dropna()"
   ]
  },
  {
   "cell_type": "code",
   "execution_count": 27,
   "id": "da53cf5f",
   "metadata": {
    "pycharm": {
     "name": "#%%\n"
    }
   },
   "outputs": [
    {
     "data": {
      "image/png": "[encoded data removed]",
      "text/plain": [
       "<Figure size 720x1080 with 3 Axes>"
      ]
     },
     "metadata": {
      "needs_background": "light"
     },
     "output_type": "display_data"
    }
   ],
   "source": [
    "def generate_ngrams(text, n_gram=1):\n",
    "    \"\"\"Generate n-grams from text.\"\"\"\n",
    "    token = [token for token in text.lower().split(\" \") if token != \"\" if token not in STOPWORDS]\n",
    "    ngrams = zip(*[token[i:] for i in range(n_gram)])\n",
    "    return [\" \".join(ngram) for ngram in ngrams]\n",
    "\n",
    "def plot_horizontal_bar_chart(df, color, ax, title):\n",
    "    \"\"\"Plot horizontal bar chart using seaborn.\"\"\"\n",
    "    sns.barplot(x=\"wordcount\", y=\"word\", data=df, ax=ax, color=color)\n",
    "    ax.set_title(title)\n",
    "    ax.set_xlabel(\"Count\")\n",
    "    ax.set_ylabel(\"\")\n",
    "\n",
    "\n",
    "fig, axes = plt.subplots(3, 1, figsize=(10, 15), sharex=True)\n",
    "\n",
    "# Analyzing and plotting positive reviews\n",
    "freq_dict = defaultdict(int)\n",
    "for sent in review_pos[\"reviews\"]:\n",
    "    for word in generate_ngrams(sent):\n",
    "        freq_dict[word] += 1\n",
    "fd_sorted = pd.DataFrame(sorted(freq_dict.items(), key=lambda x: x[1], reverse=True))\n",
    "fd_sorted.columns = [\"word\", \"wordcount\"]\n",
    "plot_horizontal_bar_chart(fd_sorted.head(25), 'green', axes[0], \"Frequent words of positive reviews\")\n",
    "\n",
    "# Analyzing and plotting neutral reviews\n",
    "freq_dict = defaultdict(int)\n",
    "for sent in review_neu[\"reviews\"]:\n",
    "    for word in generate_ngrams(sent):\n",
    "        freq_dict[word] += 1\n",
    "fd_sorted = pd.DataFrame(sorted(freq_dict.items(), key=lambda x: x[1], reverse=True))\n",
    "fd_sorted.columns = [\"word\", \"wordcount\"]\n",
    "plot_horizontal_bar_chart(fd_sorted.head(25), 'grey', axes[1], \"Frequent words of neutral reviews\")\n",
    "\n",
    "# Analyzing and plotting negative reviews\n",
    "freq_dict = defaultdict(int)\n",
    "for sent in review_neg[\"reviews\"]:\n",
    "    for word in generate_ngrams(sent):\n",
    "        freq_dict[word] += 1\n",
    "fd_sorted = pd.DataFrame(sorted(freq_dict.items(), key=lambda x: x[1], reverse=True))\n",
    "fd_sorted.columns = [\"word\", \"wordcount\"]\n",
    "plot_horizontal_bar_chart(fd_sorted.head(25), 'red', axes[2], \"Frequent words of negative reviews\")\n",
    "\n",
    "plt.tight_layout()\n",
    "plt.show()"
   ]
  },
  {
   "cell_type": "code",
   "execution_count": 28,
   "id": "11901197",
   "metadata": {
    "pycharm": {
     "name": "#%%\n"
    }
   },
   "outputs": [
    {
     "data": {
      "image/png": "[encoded data removed]",
      "text/plain": [
       "<Figure size 864x1296 with 3 Axes>"
      ]
     },
     "metadata": {
      "needs_background": "light"
     },
     "output_type": "display_data"
    }
   ],
   "source": [
    "fig, axes = plt.subplots(3, 1, figsize=(12, 18), sharex=True)\n",
    "\n",
    "# Analyzing and plotting bigrams for positive reviews\n",
    "freq_dict = defaultdict(int)\n",
    "for sent in review_pos[\"reviews\"]:\n",
    "    for word in generate_ngrams(sent, 2):\n",
    "        freq_dict[word] += 1\n",
    "fd_sorted = pd.DataFrame(sorted(freq_dict.items(), key=lambda x: x[1], reverse=True))\n",
    "fd_sorted.columns = [\"word\", \"wordcount\"]\n",
    "plot_horizontal_bar_chart(fd_sorted.head(25), 'green', axes[0], \"Bigram plots of Positive reviews\")\n",
    "\n",
    "# Analyzing and plotting bigrams for neutral reviews\n",
    "freq_dict = defaultdict(int)\n",
    "for sent in review_neu[\"reviews\"]:\n",
    "    for word in generate_ngrams(sent, 2):\n",
    "        freq_dict[word] += 1\n",
    "fd_sorted = pd.DataFrame(sorted(freq_dict.items(), key=lambda x: x[1], reverse=True))\n",
    "fd_sorted.columns = [\"word\", \"wordcount\"]\n",
    "plot_horizontal_bar_chart(fd_sorted.head(25), 'grey', axes[1], \"Bigram plots of Neutral reviews\")\n",
    "\n",
    "# Analyzing and plotting bigrams for negative reviews\n",
    "freq_dict = defaultdict(int)\n",
    "for sent in review_neg[\"reviews\"]:\n",
    "    for word in generate_ngrams(sent, 2):\n",
    "        freq_dict[word] += 1\n",
    "fd_sorted = pd.DataFrame(sorted(freq_dict.items(), key=lambda x: x[1], reverse=True))\n",
    "fd_sorted.columns = [\"word\", \"wordcount\"]\n",
    "plot_horizontal_bar_chart(fd_sorted.head(25), 'brown', axes[2], \"Bigram plots of Negative reviews\")\n",
    "\n",
    "plt.tight_layout()\n",
    "plt.show()"
   ]
  },
  {
   "cell_type": "code",
   "execution_count": 29,
   "id": "b4765bed",
   "metadata": {
    "pycharm": {
     "name": "#%%\n"
    }
   },
   "outputs": [
    {
     "data": {
      "image/png": "[encoded data removed]",
      "text/plain": [
       "<Figure size 864x1296 with 3 Axes>"
      ]
     },
     "metadata": {
      "needs_background": "light"
     },
     "output_type": "display_data"
    }
   ],
   "source": [
    "fig, axes = plt.subplots(3, 1, figsize=(12, 18), sharex=True)\n",
    "\n",
    "# Analyzing and plotting trigrams for positive reviews\n",
    "freq_dict = defaultdict(int)\n",
    "for sent in review_pos[\"reviews\"]:\n",
    "    for word in generate_ngrams(sent, 3):\n",
    "        freq_dict[word] += 1\n",
    "fd_sorted = pd.DataFrame(sorted(freq_dict.items(), key=lambda x: x[1], reverse=True))\n",
    "fd_sorted.columns = [\"word\", \"wordcount\"]\n",
    "plot_horizontal_bar_chart(fd_sorted.head(25), 'green', axes[0], \"Tri-gram plots of Positive reviews\")\n",
    "\n",
    "# Resetting the frequency dictionary for neutral reviews\n",
    "freq_dict.clear()\n",
    "for sent in review_neu[\"reviews\"]:\n",
    "    for word in generate_ngrams(sent, 3):\n",
    "        freq_dict[word] += 1\n",
    "fd_sorted = pd.DataFrame(sorted(freq_dict.items(), key=lambda x: x[1], reverse=True))\n",
    "fd_sorted.columns = [\"word\", \"wordcount\"]\n",
    "plot_horizontal_bar_chart(fd_sorted.head(25), 'grey', axes[1], \"Tri-gram plots of Neutral reviews\")\n",
    "\n",
    "# Resetting the frequency dictionary for negative reviews\n",
    "freq_dict.clear()\n",
    "for sent in review_neg[\"reviews\"]:\n",
    "    for word in generate_ngrams(sent, 3):\n",
    "        freq_dict[word] += 1\n",
    "fd_sorted = pd.DataFrame(sorted(freq_dict.items(), key=lambda x: x[1], reverse=True))\n",
    "fd_sorted.columns = [\"word\", \"wordcount\"]\n",
    "plot_horizontal_bar_chart(fd_sorted.head(25), 'red', axes[2], \"Tri-gram plots of Negative reviews\")\n",
    "\n",
    "plt.tight_layout()\n",
    "plt.show()"
   ]
  },
  {
   "cell_type": "code",
   "execution_count": 30,
   "id": "57af86cb",
   "metadata": {
    "pycharm": {
     "name": "#%%\n"
    }
   },
   "outputs": [
    {
     "data": {
      "text/plain": [
       "array([2, 1, 0])"
      ]
     },
     "execution_count": 30,
     "metadata": {},
     "output_type": "execute_result"
    }
   ],
   "source": [
    "# Calling the label encoder and applying it to sentiments\n",
    "label_encoder = preprocessing.LabelEncoder() \n",
    "data['sentiment']= label_encoder.fit_transform(data['sentiment']) \n",
    "data['sentiment'].unique()"
   ]
  },
  {
   "cell_type": "code",
   "execution_count": 31,
   "id": "0c6de088",
   "metadata": {
    "pycharm": {
     "name": "#%%\n"
    }
   },
   "outputs": [
    {
     "data": {
      "text/plain": [
       "sentiment\n",
       "2    27803\n",
       "1     3884\n",
       "0     2591\n",
       "Name: count, dtype: int64"
      ]
     },
     "execution_count": 31,
     "metadata": {},
     "output_type": "execute_result"
    }
   ],
   "source": [
    "data['sentiment'].value_counts()"
   ]
  },
  {
   "cell_type": "code",
   "execution_count": 32,
   "id": "53148ae2",
   "metadata": {
    "pycharm": {
     "name": "#%%\n"
    }
   },
   "outputs": [
    {
     "data": {
      "text/html": [
       "<div>\n",
       "<style scoped>\n",
       "    .dataframe tbody tr th:only-of-type {\n",
       "        vertical-align: middle;\n",
       "    }\n",
       "\n",
       "    .dataframe tbody tr th {\n",
       "        vertical-align: top;\n",
       "    }\n",
       "\n",
       "    .dataframe thead th {\n",
       "        text-align: right;\n",
       "    }\n",
       "</style>\n",
       "<table border=\"1\" class=\"dataframe\">\n",
       "  <thead>\n",
       "    <tr style=\"text-align: right;\">\n",
       "      <th></th>\n",
       "      <th>reviews</th>\n",
       "    </tr>\n",
       "  </thead>\n",
       "  <tbody>\n",
       "    <tr>\n",
       "      <th>0</th>\n",
       "      <td>handcream beautiful fragrance doesnt stay prot...</td>\n",
       "    </tr>\n",
       "    <tr>\n",
       "      <th>1</th>\n",
       "      <td>wonderful hand lotion seriously dry skin stays...</td>\n",
       "    </tr>\n",
       "    <tr>\n",
       "      <th>2</th>\n",
       "      <td>best hand cream around silky thick soaks way l...</td>\n",
       "    </tr>\n",
       "    <tr>\n",
       "      <th>3</th>\n",
       "      <td>thanks!!five stars</td>\n",
       "    </tr>\n",
       "    <tr>\n",
       "      <th>4</th>\n",
       "      <td>great hand lotion soaks right leaves skin supe...</td>\n",
       "    </tr>\n",
       "  </tbody>\n",
       "</table>\n",
       "</div>"
      ],
      "text/plain": [
       "                                             reviews\n",
       "0  handcream beautiful fragrance doesnt stay prot...\n",
       "1  wonderful hand lotion seriously dry skin stays...\n",
       "2  best hand cream around silky thick soaks way l...\n",
       "3                                 thanks!!five stars\n",
       "4  great hand lotion soaks right leaves skin supe..."
      ]
     },
     "execution_count": 32,
     "metadata": {},
     "output_type": "execute_result"
    }
   ],
   "source": [
    "# Extracting 'reviews' for processing\n",
    "review_features=data.copy()\n",
    "review_features=data[['reviews']].reset_index(drop=True)\n",
    "review_features.head()"
   ]
  },
  {
   "cell_type": "code",
   "execution_count": 33,
   "id": "5d6fff71",
   "metadata": {
    "pycharm": {
     "name": "#%%\n"
    }
   },
   "outputs": [],
   "source": [
    "# Performing lemmatization on the review dataframe\n",
    "lemmatizer = WordNetLemmatizer()\n",
    "corpus = []\n",
    "for i in range(0, len(review_features)):\n",
    "    review = re.sub('[^a-zA-Z]', ' ', review_features['reviews'][i])\n",
    "    review = review.split()\n",
    "    review = [lemmatizer.lemmatize(word) for word in review if not word in stop_words]\n",
    "    review = ' '.join(review)\n",
    "    corpus.append(review) "
   ]
  },
  {
   "cell_type": "code",
   "execution_count": 34,
   "id": "a2284edb",
   "metadata": {
    "pycharm": {
     "name": "#%%\n"
    }
   },
   "outputs": [],
   "source": [
    "# Performing TF-IDF on the features\n",
    "tfidf_vectorizer = TfidfVectorizer(max_features=5000,ngram_range=(2,2))\n",
    "X= tfidf_vectorizer.fit_transform(review_features['reviews'])"
   ]
  },
  {
   "cell_type": "code",
   "execution_count": 35,
   "id": "15d1ac0c",
   "metadata": {
    "pycharm": {
     "name": "#%%\n"
    }
   },
   "outputs": [],
   "source": [
    "# Extracting the response\n",
    "y=data['sentiment']"
   ]
  },
  {
   "cell_type": "code",
   "execution_count": 36,
   "id": "188259ff",
   "metadata": {
    "pycharm": {
     "name": "#%%\n"
    }
   },
   "outputs": [
    {
     "name": "stdout",
     "output_type": "stream",
     "text": [
      "Original dataset shape : Counter({2: 27803, 1: 3884, 0: 2591})\n",
      "Resampled dataset shape Counter({2: 27803, 1: 27803, 0: 27803})\n"
     ]
    }
   ],
   "source": [
    "# Performing sampling technique\n",
    "print(f'Original dataset shape : {Counter(y)}')\n",
    "smote = BorderlineSMOTE(random_state=42)\n",
    "X_res, y_res = smote.fit_resample(X, y)\n",
    "print(f'Resampled dataset shape {Counter(y_res)}')"
   ]
  },
  {
   "cell_type": "code",
   "execution_count": 37,
   "id": "9e426d57",
   "metadata": {
    "pycharm": {
     "name": "#%%\n"
    }
   },
   "outputs": [],
   "source": [
    "# Divide the dataset into Train and Test sets \n",
    "X_train, X_test, y_train, y_test = train_test_split(X_res, y_res, test_size=0.20, random_state=42)"
   ]
  },
  {
   "cell_type": "code",
   "execution_count": 38,
   "id": "8359db6f",
   "metadata": {
    "pycharm": {
     "name": "#%%\n"
    }
   },
   "outputs": [
    {
     "name": "stdout",
     "output_type": "stream",
     "text": [
      "Training Error: 0.03745110674839269\n",
      "Testing Error: 0.11917036326579544\n",
      "Training Accuracy: 0.9625488932516073\n",
      "Testing Accuracy: 0.8808296367342046\n",
      ":               precision    recall  f1-score   support\n",
      "\n",
      "           0       0.83      0.96      0.89      5638\n",
      "           1       0.90      0.88      0.89      5527\n",
      "           2       0.93      0.80      0.86      5517\n",
      "\n",
      "    accuracy                           0.88     16682\n",
      "   macro avg       0.89      0.88      0.88     16682\n",
      "weighted avg       0.89      0.88      0.88     16682\n",
      "\n"
     ]
    }
   ],
   "source": [
    "# Train decision tree with information gain\n",
    "clf_entropy = DecisionTreeClassifier(criterion='entropy', random_state=42)\n",
    "clf_entropy.fit(X_train, y_train)\n",
    "\n",
    "# Predict and evaluate\n",
    "y_train_pred_entropy = clf_entropy.predict(X_train)\n",
    "y_test_pred_entropy = clf_entropy.predict(X_test)\n",
    "\n",
    "metrics = {\n",
    "    'Training Error': 1 - accuracy_score(y_train, y_train_pred_entropy),\n",
    "    'Testing Error': 1 - accuracy_score(y_test, y_test_pred_entropy),\n",
    "    'Training Accuracy': accuracy_score(y_train, y_train_pred_entropy),\n",
    "    'Testing Accuracy': accuracy_score(y_test, y_test_pred_entropy),\n",
    "    '' : classification_report(y_test, y_test_pred_entropy)\n",
    "}\n",
    "\n",
    "for metric, value in metrics.items():\n",
    "    print(f\"{metric}: {value}\")"
   ]
  },
  {
   "cell_type": "code",
   "execution_count": 39,
   "id": "e41dd475",
   "metadata": {
    "pycharm": {
     "name": "#%%\n"
    }
   },
   "outputs": [
    {
     "data": {
      "image/png": "[encoded data removed]",
      "text/plain": [
       "<Figure size 576x432 with 2 Axes>"
      ]
     },
     "metadata": {
      "needs_background": "light"
     },
     "output_type": "display_data"
    }
   ],
   "source": [
    "# Calculate the confusion matrix\n",
    "cm = confusion_matrix(y_test, y_test_pred_entropy)\n",
    "\n",
    "# Convert the confusion matrix to percentage\n",
    "cm_percentage = cm.astype('float') / cm.sum(axis=1)[:, np.newaxis]\n",
    "\n",
    "# Plotting the confusion matrix\n",
    "plt.figure(figsize=(8, 6))\n",
    "sns.heatmap(cm_percentage, annot=True, fmt=\".2%\", cmap='Blues', xticklabels=True, yticklabels=True)\n",
    "plt.title('Confusion Matrix with Percentages')\n",
    "plt.xlabel('Predicted labels')\n",
    "plt.ylabel('True labels')\n",
    "plt.show()"
   ]
  },
  {
   "cell_type": "code",
   "execution_count": 40,
   "id": "1f5870fe",
   "metadata": {
    "pycharm": {
     "name": "#%%\n"
    },
    "scrolled": false
   },
   "outputs": [
    {
     "data": {
      "image/png": "[encoded data removed]",
      "text/plain": [
       "<Figure size 576x432 with 2 Axes>"
      ]
     },
     "metadata": {
      "needs_background": "light"
     },
     "output_type": "display_data"
    },
    {
     "data": {
      "image/png": "[encoded data removed]",
      "text/plain": [
       "<Figure size 576x432 with 2 Axes>"
      ]
     },
     "metadata": {
      "needs_background": "light"
     },
     "output_type": "display_data"
    },
    {
     "data": {
      "image/png": "[encoded data removed]",
      "text/plain": [
       "<Figure size 576x432 with 2 Axes>"
      ]
     },
     "metadata": {
      "needs_background": "light"
     },
     "output_type": "display_data"
    },
    {
     "name": "stdout",
     "output_type": "stream",
     "text": [
      "Results for 10 Trees:\n",
      "Training Error: 0.04007373327138941\n",
      "Testing Error: 0.10406426087999043\n",
      "Training Accuracy: 0.9599262667286106\n",
      "Testing Accuracy: 0.8959357391200096\n",
      "Classification Report:               precision    recall  f1-score   support\n",
      "\n",
      "           0       0.84      0.98      0.91      5638\n",
      "           1       0.89      0.92      0.91      5527\n",
      "           2       0.98      0.78      0.87      5517\n",
      "\n",
      "    accuracy                           0.90     16682\n",
      "   macro avg       0.90      0.90      0.89     16682\n",
      "weighted avg       0.90      0.90      0.89     16682\n",
      "\n",
      "--------------------------------------------------\n",
      "Results for 20 Trees:\n",
      "Training Error: 0.038035577802089104\n",
      "Testing Error: 0.09908883826879267\n",
      "Training Accuracy: 0.9619644221979109\n",
      "Testing Accuracy: 0.9009111617312073\n",
      "Classification Report:               precision    recall  f1-score   support\n",
      "\n",
      "           0       0.85      0.98      0.91      5638\n",
      "           1       0.90      0.92      0.91      5527\n",
      "           2       0.98      0.80      0.88      5517\n",
      "\n",
      "    accuracy                           0.90     16682\n",
      "   macro avg       0.91      0.90      0.90     16682\n",
      "weighted avg       0.91      0.90      0.90     16682\n",
      "\n",
      "--------------------------------------------------\n",
      "Results for 30 Trees:\n",
      "Training Error: 0.03757099824658683\n",
      "Testing Error: 0.09663109938856251\n",
      "Training Accuracy: 0.9624290017534132\n",
      "Testing Accuracy: 0.9033689006114375\n",
      "Classification Report:               precision    recall  f1-score   support\n",
      "\n",
      "           0       0.85      0.98      0.91      5638\n",
      "           1       0.91      0.93      0.92      5527\n",
      "           2       0.98      0.80      0.88      5517\n",
      "\n",
      "    accuracy                           0.90     16682\n",
      "   macro avg       0.91      0.90      0.90     16682\n",
      "weighted avg       0.91      0.90      0.90     16682\n",
      "\n",
      "--------------------------------------------------\n"
     ]
    }
   ],
   "source": [
    "# Number of trees to explore\n",
    "n_estimators_list = [10, 20, 30]\n",
    "\n",
    "# Initialize a dictionary to store metrics\n",
    "results = {n: {} for n in n_estimators_list}\n",
    "\n",
    "# Loop through each number of trees\n",
    "for n_estimators in n_estimators_list:\n",
    "    rf = RandomForestClassifier(n_estimators=n_estimators, random_state=42)\n",
    "    rf.fit(X_train, y_train)\n",
    "    \n",
    "    # Predictions\n",
    "    y_train_pred_rf = rf.predict(X_train)\n",
    "    y_test_pred_rf = rf.predict(X_test)\n",
    "    \n",
    "    # Metrics\n",
    "    results[n_estimators]['Training Error'] = 1 - accuracy_score(y_train, y_train_pred_rf)\n",
    "    results[n_estimators]['Testing Error'] = 1 - accuracy_score(y_test, y_test_pred_rf)\n",
    "    results[n_estimators]['Training Accuracy'] = accuracy_score(y_train, y_train_pred_rf)\n",
    "    results[n_estimators]['Testing Accuracy'] = accuracy_score(y_test, y_test_pred_rf)\n",
    "    results[n_estimators]['Classification Report'] = classification_report(y_test, y_test_pred_rf)\n",
    "    \n",
    "    # Calculate the confusion matrix and convert to percentages\n",
    "    cm = confusion_matrix(y_test, y_test_pred_rf)\n",
    "    cm_percentage = cm.astype('float') / cm.sum(axis=1)[:, np.newaxis]\n",
    "    \n",
    "    # Plotting the confusion matrix\n",
    "    plt.figure(figsize=(8, 6))\n",
    "    sns.heatmap(cm_percentage, annot=True, fmt=\".2%\", cmap='Blues')\n",
    "    plt.title(f'Confusion Matrix with Percentages for {n_estimators} Trees')\n",
    "    plt.xlabel('Predicted labels')\n",
    "    plt.ylabel('True labels')\n",
    "    plt.show()\n",
    "\n",
    "# Print results\n",
    "for n_estimators, metrics in results.items():\n",
    "    print(f\"Results for {n_estimators} Trees:\")\n",
    "    for metric_name, metric_value in metrics.items(): \n",
    "            print(f\"{metric_name}: {metric_value}\")\n",
    "    print(\"-\" * 50)"
   ]
  },
  {
   "cell_type": "code",
   "execution_count": 41,
   "id": "ef840466",
   "metadata": {
    "pycharm": {
     "name": "#%%\n"
    }
   },
   "outputs": [
    {
     "name": "stdout",
     "output_type": "stream",
     "text": [
      "Training Error: 0.15458510048406193\n",
      "Testing Error: 0.18427047116652684\n",
      "Training Accuracy: 0.8454148995159381\n",
      "Testing Accuracy: 0.8157295288334732\n",
      ":               precision    recall  f1-score   support\n",
      "\n",
      "           0       0.76      0.93      0.83      5638\n",
      "           1       0.81      0.75      0.78      5527\n",
      "           2       0.91      0.76      0.83      5517\n",
      "\n",
      "    accuracy                           0.82     16682\n",
      "   macro avg       0.83      0.81      0.81     16682\n",
      "weighted avg       0.83      0.82      0.81     16682\n",
      "\n"
     ]
    }
   ],
   "source": [
    "# Train a logistic regression model\n",
    "model = LogisticRegression()\n",
    "model.fit(X_train, y_train)\n",
    "\n",
    "# Predict and evaluate\n",
    "y_train_pred_entropy_new = model.predict(X_train)\n",
    "y_test_pred_entropy_new = model.predict(X_test)\n",
    "\n",
    "metrics = {\n",
    "    'Training Error': 1 - accuracy_score(y_train, y_train_pred_entropy_new),\n",
    "    'Testing Error': 1 - accuracy_score(y_test, y_test_pred_entropy_new),\n",
    "    'Training Accuracy': accuracy_score(y_train, y_train_pred_entropy_new),\n",
    "    'Testing Accuracy': accuracy_score(y_test, y_test_pred_entropy_new),\n",
    "    '' : classification_report(y_test, y_test_pred_entropy_new)\n",
    "}\n",
    "\n",
    "for metric, value in metrics.items():\n",
    "    print(f\"{metric}: {value}\")"
   ]
  },
  {
   "cell_type": "code",
   "execution_count": 42,
   "id": "e2a1d9f1",
   "metadata": {
    "pycharm": {
     "name": "#%%\n"
    }
   },
   "outputs": [
    {
     "data": {
      "image/png": "[encoded data removed]",
      "text/plain": [
       "<Figure size 576x432 with 2 Axes>"
      ]
     },
     "metadata": {
      "needs_background": "light"
     },
     "output_type": "display_data"
    }
   ],
   "source": [
    "# Calculate the confusion matrix\n",
    "cm = confusion_matrix(y_test, y_test_pred_entropy_new)\n",
    "\n",
    "# Convert the confusion matrix to percentage\n",
    "cm_percentage = cm.astype('float') / cm.sum(axis=1)[:, np.newaxis]\n",
    "\n",
    "# Plotting the confusion matrix\n",
    "plt.figure(figsize=(8, 6))\n",
    "sns.heatmap(cm_percentage, annot=True, fmt=\".2%\", cmap='Blues')\n",
    "plt.title('Confusion Matrix with Percentages')\n",
    "plt.xlabel('Predicted labels')\n",
    "plt.ylabel('True labels')\n",
    "plt.show()"
   ]
  },
  {
   "cell_type": "code",
   "execution_count": 43,
   "id": "b8e8039e",
   "metadata": {
    "pycharm": {
     "name": "#%%\n"
    }
   },
   "outputs": [
    {
     "data": {
      "image/png": "[encoded data removed]",
      "text/plain": [
       "<Figure size 432x288 with 1 Axes>"
      ]
     },
     "metadata": {
      "needs_background": "light"
     },
     "output_type": "display_data"
    },
    {
     "data": {
      "image/png": "[encoded data removed]",
      "text/plain": [
       "<Figure size 432x288 with 1 Axes>"
      ]
     },
     "metadata": {
      "needs_background": "light"
     },
     "output_type": "display_data"
    },
    {
     "data": {
      "image/png": "[encoded data removed]",
      "text/plain": [
       "<Figure size 432x288 with 1 Axes>"
      ]
     },
     "metadata": {
      "needs_background": "light"
     },
     "output_type": "display_data"
    },
    {
     "data": {
      "image/png": "[encoded data removed]",
      "text/plain": [
       "<Figure size 432x288 with 1 Axes>"
      ]
     },
     "metadata": {
      "needs_background": "light"
     },
     "output_type": "display_data"
    },
    {
     "name": "stdout",
     "output_type": "stream",
     "text": [
      "Optimal k: 1\n"
     ]
    }
   ],
   "source": [
    "k_values = list(range(1, 5))\n",
    "\n",
    "accuracy_scores = []\n",
    "error_rates = []\n",
    "precision_scores = []\n",
    "recall_scores = []\n",
    "\n",
    "# Perform cross-validation for each k value\n",
    "for k in k_values:\n",
    "    knn = KNeighborsClassifier(n_neighbors=k)\n",
    "    cv_results = cross_validate(knn, X_train, y_train, cv=5, scoring=['accuracy', 'precision_macro', 'recall_macro'])\n",
    "    \n",
    "    accuracy = np.mean(cv_results['test_accuracy'])\n",
    "    error = 1 - accuracy\n",
    "    precision = np.mean(cv_results['test_precision_macro'])\n",
    "    recall = np.mean(cv_results['test_recall_macro'])\n",
    "    \n",
    "    accuracy_scores.append(accuracy)\n",
    "    error_rates.append(error)\n",
    "    precision_scores.append(precision)\n",
    "    recall_scores.append(recall)\n",
    "\n",
    "# Plot accuracy vs. k\n",
    "plt.plot(k_values, accuracy_scores, marker='o')\n",
    "plt.title('Accuracy vs. k')\n",
    "plt.xlabel('k')\n",
    "plt.ylabel('Accuracy')\n",
    "plt.grid(True)\n",
    "plt.show()\n",
    "\n",
    "# Plot error rate vs. k\n",
    "plt.plot(k_values, error_rates, marker='o')\n",
    "plt.title('Error Rate vs. k')\n",
    "plt.xlabel('k')\n",
    "plt.ylabel('Error Rate')\n",
    "plt.grid(True)\n",
    "plt.show()\n",
    "\n",
    "# Plot precision vs. k\n",
    "plt.plot(k_values, precision_scores, marker='o')\n",
    "plt.title('Precision vs. k')\n",
    "plt.xlabel('k')\n",
    "plt.ylabel('Precision')\n",
    "plt.grid(True)\n",
    "plt.show()\n",
    "\n",
    "# Plot recall vs. k\n",
    "plt.plot(k_values, recall_scores, marker='o')\n",
    "plt.title('Recall vs. k')\n",
    "plt.xlabel('k')\n",
    "plt.ylabel('Recall')\n",
    "plt.grid(True)\n",
    "plt.show()\n",
    "\n",
    "optimal_k = k_values[error_rates.index(min(error_rates))]\n",
    "print(\"Optimal k:\", optimal_k)"
   ]
  },
  {
   "cell_type": "code",
   "execution_count": null,
   "id": "9a7100dd",
   "metadata": {
    "pycharm": {
     "name": "#%%\n"
    }
   },
   "outputs": [],
   "source": []
  }
 ],
 "metadata": {
  "kernelspec": {
   "display_name": "Python 3 (ipykernel)",
   "language": "python",
   "name": "python3"
  },
  "language_info": {
   "codemirror_mode": {
    "name": "ipython",
    "version": 3
   },
   "file_extension": ".py",
   "mimetype": "text/x-python",
   "name": "python",
   "nbconvert_exporter": "python",
   "pygments_lexer": "ipython3",
   "version": "3.9.12"
  }
 },
 "nbformat": 4,
 "nbformat_minor": 5
}
